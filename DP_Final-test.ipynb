{
 "cells": [
  {
   "cell_type": "markdown",
   "metadata": {},
   "source": [
    "<H1> Default Credit  Modelling"
   ]
  },
  {
   "cell_type": "code",
   "execution_count": 1,
   "metadata": {},
   "outputs": [
    {
     "data": {
      "text/html": [
       "<div>\n",
       "<style scoped>\n",
       "    .dataframe tbody tr th:only-of-type {\n",
       "        vertical-align: middle;\n",
       "    }\n",
       "\n",
       "    .dataframe tbody tr th {\n",
       "        vertical-align: top;\n",
       "    }\n",
       "\n",
       "    .dataframe thead th {\n",
       "        text-align: right;\n",
       "    }\n",
       "</style>\n",
       "<table border=\"1\" class=\"dataframe\">\n",
       "  <thead>\n",
       "    <tr style=\"text-align: right;\">\n",
       "      <th></th>\n",
       "      <th>Forme_juridique</th>\n",
       "      <th>Ancienneté</th>\n",
       "      <th>R1</th>\n",
       "      <th>R2</th>\n",
       "      <th>R3</th>\n",
       "      <th>R4</th>\n",
       "      <th>R5</th>\n",
       "      <th>R6</th>\n",
       "      <th>R7</th>\n",
       "      <th>X1</th>\n",
       "      <th>X2</th>\n",
       "      <th>X3</th>\n",
       "      <th>X4</th>\n",
       "      <th>X5</th>\n",
       "      <th>Z</th>\n",
       "      <th>statut</th>\n",
       "    </tr>\n",
       "  </thead>\n",
       "  <tbody>\n",
       "    <tr>\n",
       "      <th>0</th>\n",
       "      <td>SA</td>\n",
       "      <td>40_et_plus</td>\n",
       "      <td>0.17340</td>\n",
       "      <td>-0.38609</td>\n",
       "      <td>0.76827</td>\n",
       "      <td>0.27304</td>\n",
       "      <td>3.68016</td>\n",
       "      <td>0.56702</td>\n",
       "      <td>-0.47156</td>\n",
       "      <td>-0.20567</td>\n",
       "      <td>0.08171</td>\n",
       "      <td>0.04655</td>\n",
       "      <td>0.13409</td>\n",
       "      <td>0.18036</td>\n",
       "      <td>0.282019</td>\n",
       "      <td>mauvaise</td>\n",
       "    </tr>\n",
       "    <tr>\n",
       "      <th>1</th>\n",
       "      <td>SA</td>\n",
       "      <td>40_et_plus</td>\n",
       "      <td>0.10875</td>\n",
       "      <td>-0.39510</td>\n",
       "      <td>0.74589</td>\n",
       "      <td>0.27501</td>\n",
       "      <td>3.81500</td>\n",
       "      <td>0.57152</td>\n",
       "      <td>-0.65574</td>\n",
       "      <td>-0.21816</td>\n",
       "      <td>0.07968</td>\n",
       "      <td>0.11488</td>\n",
       "      <td>0.07485</td>\n",
       "      <td>0.20635</td>\n",
       "      <td>0.480124</td>\n",
       "      <td>mauvaise</td>\n",
       "    </tr>\n",
       "    <tr>\n",
       "      <th>2</th>\n",
       "      <td>SA</td>\n",
       "      <td>40_et_plus</td>\n",
       "      <td>0.08374</td>\n",
       "      <td>-0.38199</td>\n",
       "      <td>0.74030</td>\n",
       "      <td>0.26492</td>\n",
       "      <td>0.84655</td>\n",
       "      <td>0.53222</td>\n",
       "      <td>-0.31676</td>\n",
       "      <td>-0.21874</td>\n",
       "      <td>0.07823</td>\n",
       "      <td>-2778.90734</td>\n",
       "      <td>0.05509</td>\n",
       "      <td>0.25984</td>\n",
       "      <td>-9170.254294</td>\n",
       "      <td>mauvaise</td>\n",
       "    </tr>\n",
       "    <tr>\n",
       "      <th>3</th>\n",
       "      <td>COOPERATIVE</td>\n",
       "      <td>sup_20_inf_40</td>\n",
       "      <td>0.05009</td>\n",
       "      <td>-0.53088</td>\n",
       "      <td>1.18941</td>\n",
       "      <td>0.18368</td>\n",
       "      <td>0.69905</td>\n",
       "      <td>1.07108</td>\n",
       "      <td>-0.83437</td>\n",
       "      <td>0.05163</td>\n",
       "      <td>0.07730</td>\n",
       "      <td>0.12903</td>\n",
       "      <td>0.01651</td>\n",
       "      <td>0.45979</td>\n",
       "      <td>1.065671</td>\n",
       "      <td>mauvaise</td>\n",
       "    </tr>\n",
       "    <tr>\n",
       "      <th>4</th>\n",
       "      <td>COOPERATIVE</td>\n",
       "      <td>40_et_plus</td>\n",
       "      <td>0.13358</td>\n",
       "      <td>-0.26006</td>\n",
       "      <td>0.69516</td>\n",
       "      <td>0.27622</td>\n",
       "      <td>0.71560</td>\n",
       "      <td>0.46454</td>\n",
       "      <td>-0.55552</td>\n",
       "      <td>-0.19921</td>\n",
       "      <td>0.58237</td>\n",
       "      <td>0.09585</td>\n",
       "      <td>0.06460</td>\n",
       "      <td>0.40173</td>\n",
       "      <td>1.333061</td>\n",
       "      <td>mauvaise</td>\n",
       "    </tr>\n",
       "  </tbody>\n",
       "</table>\n",
       "</div>"
      ],
      "text/plain": [
       "  Forme_juridique     Ancienneté       R1       R2       R3       R4       R5  \\\n",
       "0              SA     40_et_plus  0.17340 -0.38609  0.76827  0.27304  3.68016   \n",
       "1              SA     40_et_plus  0.10875 -0.39510  0.74589  0.27501  3.81500   \n",
       "2              SA     40_et_plus  0.08374 -0.38199  0.74030  0.26492  0.84655   \n",
       "3     COOPERATIVE  sup_20_inf_40  0.05009 -0.53088  1.18941  0.18368  0.69905   \n",
       "4     COOPERATIVE     40_et_plus  0.13358 -0.26006  0.69516  0.27622  0.71560   \n",
       "\n",
       "        R6       R7       X1       X2          X3       X4       X5  \\\n",
       "0  0.56702 -0.47156 -0.20567  0.08171     0.04655  0.13409  0.18036   \n",
       "1  0.57152 -0.65574 -0.21816  0.07968     0.11488  0.07485  0.20635   \n",
       "2  0.53222 -0.31676 -0.21874  0.07823 -2778.90734  0.05509  0.25984   \n",
       "3  1.07108 -0.83437  0.05163  0.07730     0.12903  0.01651  0.45979   \n",
       "4  0.46454 -0.55552 -0.19921  0.58237     0.09585  0.06460  0.40173   \n",
       "\n",
       "             Z    statut  \n",
       "0     0.282019  mauvaise  \n",
       "1     0.480124  mauvaise  \n",
       "2 -9170.254294  mauvaise  \n",
       "3     1.065671  mauvaise  \n",
       "4     1.333061  mauvaise  "
      ]
     },
     "execution_count": 1,
     "metadata": {},
     "output_type": "execute_result"
    }
   ],
   "source": [
    "import pandas as pd\n",
    "df = pd.read_excel (r'C:\\Users\\erijg\\Desktop\\Arij_pfe\\bilans.xlsx')\n",
    "df = df.drop(columns=['Secteur', 'Exercice'])\n",
    "df.head()"
   ]
  },
  {
   "cell_type": "code",
   "execution_count": 2,
   "metadata": {},
   "outputs": [
    {
     "name": "stdout",
     "output_type": "stream",
     "text": [
      "<class 'pandas.core.frame.DataFrame'>\n",
      "RangeIndex: 1050 entries, 0 to 1049\n",
      "Data columns (total 16 columns):\n",
      " #   Column           Non-Null Count  Dtype  \n",
      "---  ------           --------------  -----  \n",
      " 0   Forme_juridique  1050 non-null   object \n",
      " 1   Ancienneté       1050 non-null   object \n",
      " 2   R1               1050 non-null   float64\n",
      " 3   R2               1048 non-null   float64\n",
      " 4   R3               1011 non-null   float64\n",
      " 5   R4               1049 non-null   float64\n",
      " 6   R5               1046 non-null   float64\n",
      " 7   R6               1049 non-null   float64\n",
      " 8   R7               1050 non-null   float64\n",
      " 9   X1               1050 non-null   float64\n",
      " 10  X2               1050 non-null   float64\n",
      " 11  X3               1050 non-null   float64\n",
      " 12  X4               1050 non-null   float64\n",
      " 13  X5               1050 non-null   float64\n",
      " 14  Z                1050 non-null   float64\n",
      " 15  statut           1050 non-null   object \n",
      "dtypes: float64(13), object(3)\n",
      "memory usage: 131.4+ KB\n"
     ]
    }
   ],
   "source": [
    "df.info()"
   ]
  },
  {
   "cell_type": "code",
   "execution_count": 3,
   "metadata": {},
   "outputs": [
    {
     "data": {
      "text/html": [
       "<div>\n",
       "<style scoped>\n",
       "    .dataframe tbody tr th:only-of-type {\n",
       "        vertical-align: middle;\n",
       "    }\n",
       "\n",
       "    .dataframe tbody tr th {\n",
       "        vertical-align: top;\n",
       "    }\n",
       "\n",
       "    .dataframe thead th {\n",
       "        text-align: right;\n",
       "    }\n",
       "</style>\n",
       "<table border=\"1\" class=\"dataframe\">\n",
       "  <thead>\n",
       "    <tr style=\"text-align: right;\">\n",
       "      <th></th>\n",
       "      <th>R1</th>\n",
       "      <th>R2</th>\n",
       "      <th>R3</th>\n",
       "      <th>R4</th>\n",
       "      <th>R5</th>\n",
       "      <th>R6</th>\n",
       "      <th>R7</th>\n",
       "      <th>X1</th>\n",
       "      <th>X2</th>\n",
       "      <th>X3</th>\n",
       "      <th>X4</th>\n",
       "      <th>X5</th>\n",
       "      <th>Z</th>\n",
       "    </tr>\n",
       "  </thead>\n",
       "  <tbody>\n",
       "    <tr>\n",
       "      <th>count</th>\n",
       "      <td>1050.000000</td>\n",
       "      <td>1048.000000</td>\n",
       "      <td>1011.000000</td>\n",
       "      <td>1049.000000</td>\n",
       "      <td>1046.000000</td>\n",
       "      <td>1049.000000</td>\n",
       "      <td>1050.000000</td>\n",
       "      <td>1050.000000</td>\n",
       "      <td>1050.000000</td>\n",
       "      <td>1050.000000</td>\n",
       "      <td>1050.000000</td>\n",
       "      <td>1050.000000</td>\n",
       "      <td>1050.000000</td>\n",
       "    </tr>\n",
       "    <tr>\n",
       "      <th>mean</th>\n",
       "      <td>0.571252</td>\n",
       "      <td>0.161211</td>\n",
       "      <td>18.020314</td>\n",
       "      <td>0.099455</td>\n",
       "      <td>1.522282</td>\n",
       "      <td>0.212814</td>\n",
       "      <td>0.222199</td>\n",
       "      <td>0.253429</td>\n",
       "      <td>0.042850</td>\n",
       "      <td>-3.701495</td>\n",
       "      <td>1.106668</td>\n",
       "      <td>1.272444</td>\n",
       "      <td>-9.914383</td>\n",
       "    </tr>\n",
       "    <tr>\n",
       "      <th>std</th>\n",
       "      <td>1.384508</td>\n",
       "      <td>1.574142</td>\n",
       "      <td>222.363378</td>\n",
       "      <td>2.317349</td>\n",
       "      <td>3.740257</td>\n",
       "      <td>2.132732</td>\n",
       "      <td>1.871696</td>\n",
       "      <td>0.319750</td>\n",
       "      <td>0.125847</td>\n",
       "      <td>89.776098</td>\n",
       "      <td>5.635873</td>\n",
       "      <td>1.398854</td>\n",
       "      <td>296.342477</td>\n",
       "    </tr>\n",
       "    <tr>\n",
       "      <th>min</th>\n",
       "      <td>-7.280610</td>\n",
       "      <td>-2.568540</td>\n",
       "      <td>-5.302770</td>\n",
       "      <td>-60.322870</td>\n",
       "      <td>0.000000</td>\n",
       "      <td>-39.000000</td>\n",
       "      <td>-22.678570</td>\n",
       "      <td>-1.335230</td>\n",
       "      <td>0.000000</td>\n",
       "      <td>-2778.907340</td>\n",
       "      <td>-0.715710</td>\n",
       "      <td>-0.003440</td>\n",
       "      <td>-9170.254294</td>\n",
       "    </tr>\n",
       "    <tr>\n",
       "      <th>25%</th>\n",
       "      <td>0.341363</td>\n",
       "      <td>-0.192018</td>\n",
       "      <td>1.166395</td>\n",
       "      <td>0.014790</td>\n",
       "      <td>0.196132</td>\n",
       "      <td>0.102530</td>\n",
       "      <td>0.040348</td>\n",
       "      <td>0.084500</td>\n",
       "      <td>0.000000</td>\n",
       "      <td>0.051095</td>\n",
       "      <td>0.168783</td>\n",
       "      <td>0.603285</td>\n",
       "      <td>1.391406</td>\n",
       "    </tr>\n",
       "    <tr>\n",
       "      <th>50%</th>\n",
       "      <td>0.585715</td>\n",
       "      <td>0.011315</td>\n",
       "      <td>2.053720</td>\n",
       "      <td>0.056090</td>\n",
       "      <td>0.427345</td>\n",
       "      <td>0.232660</td>\n",
       "      <td>0.158410</td>\n",
       "      <td>0.279240</td>\n",
       "      <td>0.003245</td>\n",
       "      <td>0.148775</td>\n",
       "      <td>0.394540</td>\n",
       "      <td>0.979705</td>\n",
       "      <td>2.279444</td>\n",
       "    </tr>\n",
       "    <tr>\n",
       "      <th>75%</th>\n",
       "      <td>0.789605</td>\n",
       "      <td>0.186458</td>\n",
       "      <td>4.399105</td>\n",
       "      <td>0.154790</td>\n",
       "      <td>1.141575</td>\n",
       "      <td>0.409670</td>\n",
       "      <td>0.347220</td>\n",
       "      <td>0.453307</td>\n",
       "      <td>0.016230</td>\n",
       "      <td>0.275730</td>\n",
       "      <td>0.846360</td>\n",
       "      <td>1.494970</td>\n",
       "      <td>3.332218</td>\n",
       "    </tr>\n",
       "    <tr>\n",
       "      <th>max</th>\n",
       "      <td>39.787050</td>\n",
       "      <td>32.046220</td>\n",
       "      <td>6893.644750</td>\n",
       "      <td>26.573160</td>\n",
       "      <td>40.416670</td>\n",
       "      <td>2.533150</td>\n",
       "      <td>45.028580</td>\n",
       "      <td>0.971170</td>\n",
       "      <td>1.015390</td>\n",
       "      <td>5.873130</td>\n",
       "      <td>126.628770</td>\n",
       "      <td>20.437300</td>\n",
       "      <td>76.315459</td>\n",
       "    </tr>\n",
       "  </tbody>\n",
       "</table>\n",
       "</div>"
      ],
      "text/plain": [
       "                R1           R2           R3           R4           R5  \\\n",
       "count  1050.000000  1048.000000  1011.000000  1049.000000  1046.000000   \n",
       "mean      0.571252     0.161211    18.020314     0.099455     1.522282   \n",
       "std       1.384508     1.574142   222.363378     2.317349     3.740257   \n",
       "min      -7.280610    -2.568540    -5.302770   -60.322870     0.000000   \n",
       "25%       0.341363    -0.192018     1.166395     0.014790     0.196132   \n",
       "50%       0.585715     0.011315     2.053720     0.056090     0.427345   \n",
       "75%       0.789605     0.186458     4.399105     0.154790     1.141575   \n",
       "max      39.787050    32.046220  6893.644750    26.573160    40.416670   \n",
       "\n",
       "                R6           R7           X1           X2           X3  \\\n",
       "count  1049.000000  1050.000000  1050.000000  1050.000000  1050.000000   \n",
       "mean      0.212814     0.222199     0.253429     0.042850    -3.701495   \n",
       "std       2.132732     1.871696     0.319750     0.125847    89.776098   \n",
       "min     -39.000000   -22.678570    -1.335230     0.000000 -2778.907340   \n",
       "25%       0.102530     0.040348     0.084500     0.000000     0.051095   \n",
       "50%       0.232660     0.158410     0.279240     0.003245     0.148775   \n",
       "75%       0.409670     0.347220     0.453307     0.016230     0.275730   \n",
       "max       2.533150    45.028580     0.971170     1.015390     5.873130   \n",
       "\n",
       "                X4           X5            Z  \n",
       "count  1050.000000  1050.000000  1050.000000  \n",
       "mean      1.106668     1.272444    -9.914383  \n",
       "std       5.635873     1.398854   296.342477  \n",
       "min      -0.715710    -0.003440 -9170.254294  \n",
       "25%       0.168783     0.603285     1.391406  \n",
       "50%       0.394540     0.979705     2.279444  \n",
       "75%       0.846360     1.494970     3.332218  \n",
       "max     126.628770    20.437300    76.315459  "
      ]
     },
     "execution_count": 3,
     "metadata": {},
     "output_type": "execute_result"
    }
   ],
   "source": [
    "df.describe()"
   ]
  },
  {
   "cell_type": "markdown",
   "metadata": {},
   "source": [
    "<H1>Data Preparation</H1>"
   ]
  },
  {
   "cell_type": "markdown",
   "metadata": {},
   "source": [
    "<h2>1. Data Cleaning</h2>\n"
   ]
  },
  {
   "cell_type": "markdown",
   "metadata": {},
   "source": [
    "1.1 Count of null observations in the dataset"
   ]
  },
  {
   "cell_type": "code",
   "execution_count": 4,
   "metadata": {},
   "outputs": [
    {
     "data": {
      "text/plain": [
       "47"
      ]
     },
     "execution_count": 4,
     "metadata": {},
     "output_type": "execute_result"
    }
   ],
   "source": [
    "df.isnull().sum().sum()"
   ]
  },
  {
   "cell_type": "markdown",
   "metadata": {},
   "source": [
    "1.2 Percentage of null variables "
   ]
  },
  {
   "cell_type": "code",
   "execution_count": 5,
   "metadata": {},
   "outputs": [
    {
     "data": {
      "text/plain": [
       "<AxesSubplot:>"
      ]
     },
     "execution_count": 5,
     "metadata": {},
     "output_type": "execute_result"
    },
    {
     "data": {
      "image/png": "[encoded data removed]",
      "text/plain": [
       "<Figure size 432x288 with 1 Axes>"
      ]
     },
     "metadata": {
      "needs_background": "light"
     },
     "output_type": "display_data"
    }
   ],
   "source": [
    "import seaborn as sns\n",
    "sns.heatmap(df.isnull(),cbar=False,\n",
    "            yticklabels=False,cmap = 'coolwarm')"
   ]
  },
  {
   "cell_type": "code",
   "execution_count": 6,
   "metadata": {},
   "outputs": [
    {
     "data": {
      "text/plain": [
       "Forme_juridique    0.0000\n",
       "Ancienneté         0.0000\n",
       "R1                 0.0000\n",
       "R2                 0.1905\n",
       "R3                 3.7143\n",
       "R4                 0.0952\n",
       "R5                 0.3810\n",
       "R6                 0.0952\n",
       "R7                 0.0000\n",
       "X1                 0.0000\n",
       "X2                 0.0000\n",
       "X3                 0.0000\n",
       "X4                 0.0000\n",
       "X5                 0.0000\n",
       "Z                  0.0000\n",
       "statut             0.0000\n",
       "dtype: float64"
      ]
     },
     "execution_count": 6,
     "metadata": {},
     "output_type": "execute_result"
    }
   ],
   "source": [
    "((df.isnull().sum()/df.shape[0])*100).round(4)"
   ]
  },
  {
   "cell_type": "code",
   "execution_count": null,
   "metadata": {},
   "outputs": [],
   "source": []
  },
  {
   "cell_type": "code",
   "execution_count": 7,
   "metadata": {},
   "outputs": [
    {
     "data": {
      "text/plain": [
       "Forme_juridique    0\n",
       "Ancienneté         0\n",
       "R1                 0\n",
       "R2                 0\n",
       "R3                 0\n",
       "R4                 0\n",
       "R5                 0\n",
       "R6                 0\n",
       "R7                 0\n",
       "X1                 0\n",
       "X2                 0\n",
       "X3                 0\n",
       "X4                 0\n",
       "X5                 0\n",
       "Z                  0\n",
       "statut             0\n",
       "dtype: int64"
      ]
     },
     "execution_count": 7,
     "metadata": {},
     "output_type": "execute_result"
    }
   ],
   "source": [
    "# drop missing values\n",
    "df.dropna(axis=0,inplace=True)\n",
    "df.isnull().sum()"
   ]
  },
  {
   "cell_type": "code",
   "execution_count": 8,
   "metadata": {},
   "outputs": [
    {
     "data": {
      "text/plain": [
       "(1005, 16)"
      ]
     },
     "execution_count": 8,
     "metadata": {},
     "output_type": "execute_result"
    }
   ],
   "source": [
    "df.shape"
   ]
  },
  {
   "cell_type": "code",
   "execution_count": 9,
   "metadata": {
    "scrolled": true
   },
   "outputs": [
    {
     "data": {
      "text/html": [
       "<div>\n",
       "<style scoped>\n",
       "    .dataframe tbody tr th:only-of-type {\n",
       "        vertical-align: middle;\n",
       "    }\n",
       "\n",
       "    .dataframe tbody tr th {\n",
       "        vertical-align: top;\n",
       "    }\n",
       "\n",
       "    .dataframe thead th {\n",
       "        text-align: right;\n",
       "    }\n",
       "</style>\n",
       "<table border=\"1\" class=\"dataframe\">\n",
       "  <thead>\n",
       "    <tr style=\"text-align: right;\">\n",
       "      <th></th>\n",
       "      <th>Forme_juridique</th>\n",
       "      <th>Ancienneté</th>\n",
       "      <th>R1</th>\n",
       "      <th>R2</th>\n",
       "      <th>R3</th>\n",
       "      <th>R4</th>\n",
       "      <th>R5</th>\n",
       "      <th>R6</th>\n",
       "      <th>R7</th>\n",
       "      <th>X1</th>\n",
       "      <th>X2</th>\n",
       "      <th>X3</th>\n",
       "      <th>X4</th>\n",
       "      <th>X5</th>\n",
       "      <th>Z</th>\n",
       "      <th>statut</th>\n",
       "    </tr>\n",
       "  </thead>\n",
       "  <tbody>\n",
       "    <tr>\n",
       "      <th>0</th>\n",
       "      <td>SA</td>\n",
       "      <td>40_et_plus</td>\n",
       "      <td>0.17340</td>\n",
       "      <td>-0.38609</td>\n",
       "      <td>0.76827</td>\n",
       "      <td>0.27304</td>\n",
       "      <td>3.68016</td>\n",
       "      <td>0.56702</td>\n",
       "      <td>-0.47156</td>\n",
       "      <td>-0.20567</td>\n",
       "      <td>0.08171</td>\n",
       "      <td>0.04655</td>\n",
       "      <td>0.13409</td>\n",
       "      <td>0.18036</td>\n",
       "      <td>0.282019</td>\n",
       "      <td>mauvaise</td>\n",
       "    </tr>\n",
       "    <tr>\n",
       "      <th>1</th>\n",
       "      <td>SA</td>\n",
       "      <td>40_et_plus</td>\n",
       "      <td>0.10875</td>\n",
       "      <td>-0.39510</td>\n",
       "      <td>0.74589</td>\n",
       "      <td>0.27501</td>\n",
       "      <td>3.81500</td>\n",
       "      <td>0.57152</td>\n",
       "      <td>-0.65574</td>\n",
       "      <td>-0.21816</td>\n",
       "      <td>0.07968</td>\n",
       "      <td>0.11488</td>\n",
       "      <td>0.07485</td>\n",
       "      <td>0.20635</td>\n",
       "      <td>0.480124</td>\n",
       "      <td>mauvaise</td>\n",
       "    </tr>\n",
       "    <tr>\n",
       "      <th>2</th>\n",
       "      <td>SA</td>\n",
       "      <td>40_et_plus</td>\n",
       "      <td>0.08374</td>\n",
       "      <td>-0.38199</td>\n",
       "      <td>0.74030</td>\n",
       "      <td>0.26492</td>\n",
       "      <td>0.84655</td>\n",
       "      <td>0.53222</td>\n",
       "      <td>-0.31676</td>\n",
       "      <td>-0.21874</td>\n",
       "      <td>0.07823</td>\n",
       "      <td>-2778.90734</td>\n",
       "      <td>0.05509</td>\n",
       "      <td>0.25984</td>\n",
       "      <td>-9170.254294</td>\n",
       "      <td>mauvaise</td>\n",
       "    </tr>\n",
       "    <tr>\n",
       "      <th>3</th>\n",
       "      <td>COOPERATIVE</td>\n",
       "      <td>sup_20_inf_40</td>\n",
       "      <td>0.05009</td>\n",
       "      <td>-0.53088</td>\n",
       "      <td>1.18941</td>\n",
       "      <td>0.18368</td>\n",
       "      <td>0.69905</td>\n",
       "      <td>1.07108</td>\n",
       "      <td>-0.83437</td>\n",
       "      <td>0.05163</td>\n",
       "      <td>0.07730</td>\n",
       "      <td>0.12903</td>\n",
       "      <td>0.01651</td>\n",
       "      <td>0.45979</td>\n",
       "      <td>1.065671</td>\n",
       "      <td>mauvaise</td>\n",
       "    </tr>\n",
       "    <tr>\n",
       "      <th>4</th>\n",
       "      <td>COOPERATIVE</td>\n",
       "      <td>40_et_plus</td>\n",
       "      <td>0.13358</td>\n",
       "      <td>-0.26006</td>\n",
       "      <td>0.69516</td>\n",
       "      <td>0.27622</td>\n",
       "      <td>0.71560</td>\n",
       "      <td>0.46454</td>\n",
       "      <td>-0.55552</td>\n",
       "      <td>-0.19921</td>\n",
       "      <td>0.58237</td>\n",
       "      <td>0.09585</td>\n",
       "      <td>0.06460</td>\n",
       "      <td>0.40173</td>\n",
       "      <td>1.333061</td>\n",
       "      <td>mauvaise</td>\n",
       "    </tr>\n",
       "  </tbody>\n",
       "</table>\n",
       "</div>"
      ],
      "text/plain": [
       "  Forme_juridique     Ancienneté       R1       R2       R3       R4       R5  \\\n",
       "0              SA     40_et_plus  0.17340 -0.38609  0.76827  0.27304  3.68016   \n",
       "1              SA     40_et_plus  0.10875 -0.39510  0.74589  0.27501  3.81500   \n",
       "2              SA     40_et_plus  0.08374 -0.38199  0.74030  0.26492  0.84655   \n",
       "3     COOPERATIVE  sup_20_inf_40  0.05009 -0.53088  1.18941  0.18368  0.69905   \n",
       "4     COOPERATIVE     40_et_plus  0.13358 -0.26006  0.69516  0.27622  0.71560   \n",
       "\n",
       "        R6       R7       X1       X2          X3       X4       X5  \\\n",
       "0  0.56702 -0.47156 -0.20567  0.08171     0.04655  0.13409  0.18036   \n",
       "1  0.57152 -0.65574 -0.21816  0.07968     0.11488  0.07485  0.20635   \n",
       "2  0.53222 -0.31676 -0.21874  0.07823 -2778.90734  0.05509  0.25984   \n",
       "3  1.07108 -0.83437  0.05163  0.07730     0.12903  0.01651  0.45979   \n",
       "4  0.46454 -0.55552 -0.19921  0.58237     0.09585  0.06460  0.40173   \n",
       "\n",
       "             Z    statut  \n",
       "0     0.282019  mauvaise  \n",
       "1     0.480124  mauvaise  \n",
       "2 -9170.254294  mauvaise  \n",
       "3     1.065671  mauvaise  \n",
       "4     1.333061  mauvaise  "
      ]
     },
     "execution_count": 9,
     "metadata": {},
     "output_type": "execute_result"
    }
   ],
   "source": [
    "df.head()"
   ]
  },
  {
   "cell_type": "markdown",
   "metadata": {},
   "source": [
    "1.3 Treating outliers "
   ]
  },
  {
   "cell_type": "code",
   "execution_count": 10,
   "metadata": {
    "scrolled": true
   },
   "outputs": [],
   "source": [
    "import seaborn as sns\n",
    "\n",
    "from scipy import stats\n",
    "import matplotlib.pyplot as plt\n"
   ]
  },
  {
   "cell_type": "code",
   "execution_count": 11,
   "metadata": {},
   "outputs": [
    {
     "data": {
      "text/html": [
       "<div>\n",
       "<style scoped>\n",
       "    .dataframe tbody tr th:only-of-type {\n",
       "        vertical-align: middle;\n",
       "    }\n",
       "\n",
       "    .dataframe tbody tr th {\n",
       "        vertical-align: top;\n",
       "    }\n",
       "\n",
       "    .dataframe thead th {\n",
       "        text-align: right;\n",
       "    }\n",
       "</style>\n",
       "<table border=\"1\" class=\"dataframe\">\n",
       "  <thead>\n",
       "    <tr style=\"text-align: right;\">\n",
       "      <th></th>\n",
       "      <th>variable</th>\n",
       "      <th>lower_limit</th>\n",
       "      <th>upper_limit</th>\n",
       "    </tr>\n",
       "  </thead>\n",
       "  <tbody>\n",
       "    <tr>\n",
       "      <th>0</th>\n",
       "      <td>R1</td>\n",
       "      <td>-0.3265</td>\n",
       "      <td>1.4472</td>\n",
       "    </tr>\n",
       "    <tr>\n",
       "      <th>1</th>\n",
       "      <td>R2</td>\n",
       "      <td>-0.7382</td>\n",
       "      <td>0.7300</td>\n",
       "    </tr>\n",
       "    <tr>\n",
       "      <th>2</th>\n",
       "      <td>R3</td>\n",
       "      <td>-3.6807</td>\n",
       "      <td>9.2546</td>\n",
       "    </tr>\n",
       "    <tr>\n",
       "      <th>3</th>\n",
       "      <td>R4</td>\n",
       "      <td>-0.1996</td>\n",
       "      <td>0.3769</td>\n",
       "    </tr>\n",
       "    <tr>\n",
       "      <th>4</th>\n",
       "      <td>R5</td>\n",
       "      <td>-1.2105</td>\n",
       "      <td>2.5573</td>\n",
       "    </tr>\n",
       "    <tr>\n",
       "      <th>5</th>\n",
       "      <td>R6</td>\n",
       "      <td>-0.3558</td>\n",
       "      <td>0.8724</td>\n",
       "    </tr>\n",
       "    <tr>\n",
       "      <th>6</th>\n",
       "      <td>R7</td>\n",
       "      <td>-0.4077</td>\n",
       "      <td>0.7839</td>\n",
       "    </tr>\n",
       "    <tr>\n",
       "      <th>7</th>\n",
       "      <td>X1</td>\n",
       "      <td>-0.4616</td>\n",
       "      <td>0.9809</td>\n",
       "    </tr>\n",
       "    <tr>\n",
       "      <th>8</th>\n",
       "      <td>X2</td>\n",
       "      <td>-0.0249</td>\n",
       "      <td>0.0415</td>\n",
       "    </tr>\n",
       "    <tr>\n",
       "      <th>9</th>\n",
       "      <td>X3</td>\n",
       "      <td>-0.2733</td>\n",
       "      <td>0.5984</td>\n",
       "    </tr>\n",
       "    <tr>\n",
       "      <th>10</th>\n",
       "      <td>X4</td>\n",
       "      <td>-0.7778</td>\n",
       "      <td>1.7450</td>\n",
       "    </tr>\n",
       "    <tr>\n",
       "      <th>11</th>\n",
       "      <td>X5</td>\n",
       "      <td>-0.7108</td>\n",
       "      <td>2.7782</td>\n",
       "    </tr>\n",
       "    <tr>\n",
       "      <th>12</th>\n",
       "      <td>Z</td>\n",
       "      <td>-1.4322</td>\n",
       "      <td>6.1372</td>\n",
       "    </tr>\n",
       "  </tbody>\n",
       "</table>\n",
       "</div>"
      ],
      "text/plain": [
       "   variable  lower_limit  upper_limit\n",
       "0        R1      -0.3265       1.4472\n",
       "1        R2      -0.7382       0.7300\n",
       "2        R3      -3.6807       9.2546\n",
       "3        R4      -0.1996       0.3769\n",
       "4        R5      -1.2105       2.5573\n",
       "5        R6      -0.3558       0.8724\n",
       "6        R7      -0.4077       0.7839\n",
       "7        X1      -0.4616       0.9809\n",
       "8        X2      -0.0249       0.0415\n",
       "9        X3      -0.2733       0.5984\n",
       "10       X4      -0.7778       1.7450\n",
       "11       X5      -0.7108       2.7782\n",
       "12        Z      -1.4322       6.1372"
      ]
     },
     "execution_count": 11,
     "metadata": {},
     "output_type": "execute_result"
    }
   ],
   "source": [
    "import pandas as pd\n",
    "import numpy as np\n",
    "Q1=df.drop(columns=['Forme_juridique','Ancienneté','statut']).quantile(0.25)\n",
    "Q3=df.drop(columns=['Forme_juridique','Ancienneté','statut']).quantile(0.75)\n",
    "IQR=Q3-Q1\n",
    "# calculate the outlier cutoff\n",
    "cut_off = IQR * 1.5\n",
    "lower,upper = Q1- cut_off, Q3 + cut_off\n",
    "#print(df.drop(columns=['Forme_juridique','Secteur','Ancienneté','statut']).columns)\n",
    "pd.DataFrame(zip(np.transpose(df.drop(columns=['Forme_juridique','Ancienneté',\n",
    "'statut']).columns),np.transpose(lower).round(4), np.transpose(upper).round(4)), columns=['variable','lower_limit', 'upper_limit'])"
   ]
  },
  {
   "cell_type": "code",
   "execution_count": 12,
   "metadata": {},
   "outputs": [
    {
     "data": {
      "text/plain": [
       "R1     51\n",
       "R2     90\n",
       "R3    144\n",
       "R4    123\n",
       "R5    125\n",
       "R6     63\n",
       "R7    123\n",
       "X1     25\n",
       "X2    141\n",
       "X3    109\n",
       "X4    109\n",
       "X5     62\n",
       "Z      89\n",
       "dtype: int64"
      ]
     },
     "execution_count": 12,
     "metadata": {},
     "output_type": "execute_result"
    }
   ],
   "source": [
    "((df.drop(columns=['Forme_juridique','Ancienneté','statut']) < lower) |\n",
    " (df.drop(columns=['Forme_juridique','Ancienneté','statut']) > upper)).sum()"
   ]
  },
  {
   "cell_type": "code",
   "execution_count": 13,
   "metadata": {},
   "outputs": [
    {
     "data": {
      "text/plain": [
       "R1    0\n",
       "R2    0\n",
       "R3    0\n",
       "R4    0\n",
       "R5    0\n",
       "R6    0\n",
       "R7    0\n",
       "X1    0\n",
       "X2    0\n",
       "X3    0\n",
       "X4    0\n",
       "X5    0\n",
       "Z     0\n",
       "dtype: int64"
      ]
     },
     "execution_count": 13,
     "metadata": {},
     "output_type": "execute_result"
    }
   ],
   "source": [
    "df = df[~((df < lower) |(df > upper)).any(axis=1)]\n",
    "((df.drop(columns=['Forme_juridique','Ancienneté','statut']) < lower) |\n",
    " (df.drop(columns=['Forme_juridique','Ancienneté','statut']) > upper)).sum()"
   ]
  },
  {
   "cell_type": "markdown",
   "metadata": {},
   "source": [
    "<h2> 2. Creating dummy variables </h2>"
   ]
  },
  {
   "cell_type": "code",
   "execution_count": 14,
   "metadata": {},
   "outputs": [],
   "source": [
    "import matplotlib.pyplot as plt \n",
    "import seaborn as sns; sns.set()\n"
   ]
  },
  {
   "cell_type": "code",
   "execution_count": 15,
   "metadata": {},
   "outputs": [
    {
     "data": {
      "text/plain": [
       "array([1, 0, 3, 5, 2, 4], dtype=int64)"
      ]
     },
     "execution_count": 15,
     "metadata": {},
     "output_type": "execute_result"
    }
   ],
   "source": [
    "df['Forme_juridique'] = df['Forme_juridique'].map({'SA': 0, 'SARL': 1, 'SUARL': 2, 'PERSONNE_PHYSIQUE':3, 'COOPERATIVE':4,\n",
    "                                                  'ETAB_PUB_NON_ADMIN':5})\n",
    "df['Forme_juridique'].unique()"
   ]
  },
  {
   "cell_type": "code",
   "execution_count": 16,
   "metadata": {},
   "outputs": [
    {
     "data": {
      "text/plain": [
       "array([0, 1, 2, 3], dtype=int64)"
      ]
     },
     "execution_count": 16,
     "metadata": {},
     "output_type": "execute_result"
    }
   ],
   "source": [
    "df['Ancienneté'] = df['Ancienneté'].map({'40_et_plus': 0, 'sup_20_inf_40': 1, 'sup_10_inf_20': 2, 'inf_10': 3})\n",
    "df['Ancienneté'].unique()"
   ]
  },
  {
   "cell_type": "code",
   "execution_count": 17,
   "metadata": {},
   "outputs": [
    {
     "data": {
      "text/plain": [
       "(313, 16)"
      ]
     },
     "execution_count": 17,
     "metadata": {},
     "output_type": "execute_result"
    }
   ],
   "source": [
    "df.shape"
   ]
  },
  {
   "cell_type": "code",
   "execution_count": 18,
   "metadata": {},
   "outputs": [
    {
     "data": {
      "text/plain": [
       "array([1, 2], dtype=int64)"
      ]
     },
     "execution_count": 18,
     "metadata": {},
     "output_type": "execute_result"
    }
   ],
   "source": [
    "df['statut'] = df['statut'].map({'bonne': 1,'mauvaise':2})\n",
    "df['statut'].unique()"
   ]
  },
  {
   "cell_type": "code",
   "execution_count": null,
   "metadata": {},
   "outputs": [],
   "source": []
  },
  {
   "cell_type": "markdown",
   "metadata": {},
   "source": [
    "<h1> 3. Feature Selection</h1>"
   ]
  },
  {
   "cell_type": "code",
   "execution_count": 19,
   "metadata": {},
   "outputs": [
    {
     "name": "stdout",
     "output_type": "stream",
     "text": [
      "(313, 16)\n",
      "Index(['Forme_juridique', 'Ancienneté', 'R1', 'R2', 'R3', 'R4', 'R5', 'R6',\n",
      "       'R7', 'X1', 'X2', 'X3', 'X4', 'X5', 'Z', 'statut'],\n",
      "      dtype='object')\n"
     ]
    }
   ],
   "source": [
    "#Rearranging the Columns\n",
    "dfNew = df.drop(['statut'], axis = 1)\n",
    "dfNew['statut'] = df['statut']\n",
    "print(dfNew.shape)\n",
    "print(dfNew.columns)\n",
    "df = dfNew"
   ]
  },
  {
   "cell_type": "code",
   "execution_count": 20,
   "metadata": {},
   "outputs": [],
   "source": [
    "from sklearn.feature_selection import SelectKBest\n",
    "from sklearn.feature_selection import f_classif\n",
    "\n",
    "from sklearn.preprocessing import normalize"
   ]
  },
  {
   "cell_type": "code",
   "execution_count": 21,
   "metadata": {},
   "outputs": [
    {
     "name": "stdout",
     "output_type": "stream",
     "text": [
      "[[1.      0.      0.77778 ... 0.01271 0.17135 1.24627]\n",
      " [1.      0.      0.76554 ... 0.01387 0.19601 1.51616]\n",
      " [0.      1.      0.67823 ... 0.02071 0.11688 1.21372]\n",
      " ...\n",
      " [1.      3.      0.86845 ... 0.00615 0.25373 0.38318]\n",
      " [1.      3.      0.66793 ... 0.      0.38548 0.83921]\n",
      " [1.      3.      1.      ... 0.      0.40392 1.15228]]\n",
      "Original number of features: (313, 13)\n",
      "Reduced number of features: (313, 13)\n"
     ]
    }
   ],
   "source": [
    "from sklearn.preprocessing import normalize\n",
    "X = df.drop(['Z'], axis = 1).iloc[:,0:13]  #independent columns\n",
    "y = df.iloc[:,-1] \n",
    " \n",
    "fvalue_Best = SelectKBest(f_classif, k=13)\n",
    "X_kbest = fvalue_Best.fit_transform(X, y)\n",
    "print(X_kbest)\n",
    "print('Original number of features:', X.shape)\n",
    "print('Reduced number of features:', X_kbest.shape)\n"
   ]
  },
  {
   "cell_type": "code",
   "execution_count": 22,
   "metadata": {},
   "outputs": [
    {
     "name": "stdout",
     "output_type": "stream",
     "text": [
      "              Specs      Score\n",
      "11               X3  78.302162\n",
      "9                X1  53.590638\n",
      "3                R2  33.224977\n",
      "4                R3  14.986188\n",
      "12               X4  13.160683\n",
      "6                R5   4.967204\n",
      "8                R7   4.822781\n",
      "10               X2   4.362997\n",
      "0   Forme_juridique   3.271453\n",
      "5                R4   2.267266\n",
      "2                R1   2.226926\n",
      "1        Ancienneté   0.486932\n",
      "7                R6   0.189119\n"
     ]
    }
   ],
   "source": [
    "fit = fvalue_Best.fit(normalize(X, axis=0, norm='l2'),y)\n",
    "dfscores = pd.DataFrame(fit.scores_)\n",
    "dfcolumns = pd.DataFrame(X.columns)\n",
    "#concat two dataframes for better visualization \n",
    "featureScores = pd.concat([dfcolumns,dfscores],axis=1)\n",
    "featureScores.columns = ['Specs','Score']  #naming the dataframe columns\n",
    "print(featureScores.nlargest(14,'Score'))  #print 14 best features\n"
   ]
  },
  {
   "cell_type": "code",
   "execution_count": 23,
   "metadata": {},
   "outputs": [
    {
     "data": {
      "text/plain": [
       "(313, 16)"
      ]
     },
     "execution_count": 23,
     "metadata": {},
     "output_type": "execute_result"
    }
   ],
   "source": [
    "df.shape"
   ]
  },
  {
   "cell_type": "code",
   "execution_count": 24,
   "metadata": {},
   "outputs": [
    {
     "data": {
      "text/html": [
       "<div>\n",
       "<style scoped>\n",
       "    .dataframe tbody tr th:only-of-type {\n",
       "        vertical-align: middle;\n",
       "    }\n",
       "\n",
       "    .dataframe tbody tr th {\n",
       "        vertical-align: top;\n",
       "    }\n",
       "\n",
       "    .dataframe thead th {\n",
       "        text-align: right;\n",
       "    }\n",
       "</style>\n",
       "<table border=\"1\" class=\"dataframe\">\n",
       "  <thead>\n",
       "    <tr style=\"text-align: right;\">\n",
       "      <th></th>\n",
       "      <th>Forme_juridique</th>\n",
       "      <th>Ancienneté</th>\n",
       "      <th>R1</th>\n",
       "      <th>R2</th>\n",
       "      <th>R3</th>\n",
       "      <th>R4</th>\n",
       "      <th>R5</th>\n",
       "      <th>R6</th>\n",
       "      <th>R7</th>\n",
       "      <th>X1</th>\n",
       "      <th>X2</th>\n",
       "      <th>X3</th>\n",
       "      <th>X4</th>\n",
       "      <th>X5</th>\n",
       "      <th>Z</th>\n",
       "      <th>statut</th>\n",
       "    </tr>\n",
       "  </thead>\n",
       "  <tbody>\n",
       "    <tr>\n",
       "      <th>9</th>\n",
       "      <td>1</td>\n",
       "      <td>0</td>\n",
       "      <td>0.77778</td>\n",
       "      <td>-0.22128</td>\n",
       "      <td>1.51669</td>\n",
       "      <td>0.00288</td>\n",
       "      <td>0.06487</td>\n",
       "      <td>0.21819</td>\n",
       "      <td>0.01769</td>\n",
       "      <td>0.24301</td>\n",
       "      <td>0.01271</td>\n",
       "      <td>0.17135</td>\n",
       "      <td>1.24627</td>\n",
       "      <td>0.46820</td>\n",
       "      <td>2.090823</td>\n",
       "      <td>1</td>\n",
       "    </tr>\n",
       "    <tr>\n",
       "      <th>10</th>\n",
       "      <td>1</td>\n",
       "      <td>0</td>\n",
       "      <td>0.76554</td>\n",
       "      <td>-0.55612</td>\n",
       "      <td>1.30405</td>\n",
       "      <td>0.01083</td>\n",
       "      <td>0.05216</td>\n",
       "      <td>0.13413</td>\n",
       "      <td>-0.00152</td>\n",
       "      <td>0.18352</td>\n",
       "      <td>0.01387</td>\n",
       "      <td>0.19601</td>\n",
       "      <td>1.51616</td>\n",
       "      <td>0.53135</td>\n",
       "      <td>2.327521</td>\n",
       "      <td>1</td>\n",
       "    </tr>\n",
       "    <tr>\n",
       "      <th>15</th>\n",
       "      <td>0</td>\n",
       "      <td>1</td>\n",
       "      <td>0.67823</td>\n",
       "      <td>0.04699</td>\n",
       "      <td>1.75014</td>\n",
       "      <td>0.10678</td>\n",
       "      <td>0.27625</td>\n",
       "      <td>0.45175</td>\n",
       "      <td>-0.04893</td>\n",
       "      <td>0.34649</td>\n",
       "      <td>0.02071</td>\n",
       "      <td>0.11688</td>\n",
       "      <td>1.21372</td>\n",
       "      <td>0.61769</td>\n",
       "      <td>2.176408</td>\n",
       "      <td>1</td>\n",
       "    </tr>\n",
       "    <tr>\n",
       "      <th>16</th>\n",
       "      <td>0</td>\n",
       "      <td>1</td>\n",
       "      <td>0.63594</td>\n",
       "      <td>0.10041</td>\n",
       "      <td>1.79789</td>\n",
       "      <td>0.17689</td>\n",
       "      <td>0.35784</td>\n",
       "      <td>0.49587</td>\n",
       "      <td>-0.05488</td>\n",
       "      <td>0.35257</td>\n",
       "      <td>0.02013</td>\n",
       "      <td>0.05109</td>\n",
       "      <td>1.02108</td>\n",
       "      <td>0.46296</td>\n",
       "      <td>1.695471</td>\n",
       "      <td>2</td>\n",
       "    </tr>\n",
       "    <tr>\n",
       "      <th>17</th>\n",
       "      <td>0</td>\n",
       "      <td>1</td>\n",
       "      <td>0.67069</td>\n",
       "      <td>0.16601</td>\n",
       "      <td>1.71128</td>\n",
       "      <td>0.14216</td>\n",
       "      <td>0.50070</td>\n",
       "      <td>0.50842</td>\n",
       "      <td>-0.01968</td>\n",
       "      <td>0.31261</td>\n",
       "      <td>0.02054</td>\n",
       "      <td>0.06555</td>\n",
       "      <td>1.01787</td>\n",
       "      <td>0.40674</td>\n",
       "      <td>1.637665</td>\n",
       "      <td>2</td>\n",
       "    </tr>\n",
       "  </tbody>\n",
       "</table>\n",
       "</div>"
      ],
      "text/plain": [
       "    Forme_juridique  Ancienneté       R1       R2       R3       R4       R5  \\\n",
       "9                 1           0  0.77778 -0.22128  1.51669  0.00288  0.06487   \n",
       "10                1           0  0.76554 -0.55612  1.30405  0.01083  0.05216   \n",
       "15                0           1  0.67823  0.04699  1.75014  0.10678  0.27625   \n",
       "16                0           1  0.63594  0.10041  1.79789  0.17689  0.35784   \n",
       "17                0           1  0.67069  0.16601  1.71128  0.14216  0.50070   \n",
       "\n",
       "         R6       R7       X1       X2       X3       X4       X5         Z  \\\n",
       "9   0.21819  0.01769  0.24301  0.01271  0.17135  1.24627  0.46820  2.090823   \n",
       "10  0.13413 -0.00152  0.18352  0.01387  0.19601  1.51616  0.53135  2.327521   \n",
       "15  0.45175 -0.04893  0.34649  0.02071  0.11688  1.21372  0.61769  2.176408   \n",
       "16  0.49587 -0.05488  0.35257  0.02013  0.05109  1.02108  0.46296  1.695471   \n",
       "17  0.50842 -0.01968  0.31261  0.02054  0.06555  1.01787  0.40674  1.637665   \n",
       "\n",
       "    statut  \n",
       "9        1  \n",
       "10       1  \n",
       "15       1  \n",
       "16       2  \n",
       "17       2  "
      ]
     },
     "execution_count": 24,
     "metadata": {},
     "output_type": "execute_result"
    }
   ],
   "source": [
    "df.head()"
   ]
  },
  {
   "cell_type": "code",
   "execution_count": 25,
   "metadata": {},
   "outputs": [
    {
     "name": "stdout",
     "output_type": "stream",
     "text": [
      "[0.03479788 0.03187365 0.048527   0.07027263 0.06810691 0.05985867\n",
      " 0.05080207 0.05065952 0.0475574  0.09475624 0.04150855 0.15948222\n",
      " 0.06326241 0.17853485]\n"
     ]
    },
    {
     "data": {
      "image/png": "[encoded data removed]",
      "text/plain": [
       "<Figure size 432x288 with 1 Axes>"
      ]
     },
     "metadata": {},
     "output_type": "display_data"
    }
   ],
   "source": [
    "X = df.drop(['statut'], axis = 1).iloc[:,0:14]  #independent columns\n",
    "y = df.iloc[:,-1]    #target column i.e price range\n",
    "from sklearn.ensemble import ExtraTreesClassifier\n",
    "import matplotlib.pyplot as plt\n",
    "model = ExtraTreesClassifier(100)\n",
    "model.fit(X,y)\n",
    "print(model.feature_importances_) #use inbuilt class feature_importances of tree based classifiers\n",
    "#plot graph of feature importances for better visualization\n",
    "feat_importances = pd.Series(model.feature_importances_, index=X.columns)\n",
    "feat_importances.nlargest(13).plot(kind='barh')\n",
    "plt.show()"
   ]
  },
  {
   "cell_type": "code",
   "execution_count": 26,
   "metadata": {},
   "outputs": [
    {
     "name": "stdout",
     "output_type": "stream",
     "text": [
      "(313, 8)\n",
      "(313,)\n",
      "(313, 8)\n",
      "(313,)\n"
     ]
    }
   ],
   "source": [
    "X = df[['R5', 'R4',\n",
    "                'R2','R3','X4','X5','X3', 'X1']] #independent columns\n",
    "y = df.iloc[:,-1]  #labels\n",
    "print(X.shape)\n",
    "print(y.shape)\n",
    "print(X.shape)\n",
    "print(y.shape)"
   ]
  },
  {
   "cell_type": "markdown",
   "metadata": {},
   "source": [
    "<H1>4. Classifier Selection By K-Fold Cross Validation</H1>"
   ]
  },
  {
   "cell_type": "markdown",
   "metadata": {},
   "source": [
    "In this excercise we will shortlist 2 or 3 top classifers on the basis of the precision score obtained from Cross Validation. We choose percision over accuracy here because our data is a bank data where we're try to predict good and bad credits, and the cost associated with wrongly classifying a bad loan as good loan (False Positive) is very big compared to the cost of wrongly classifying a good as bad loan. Therfore a classifier which improves accuracy without sacrificing the precision would be the priority. Also, I use Cross Validation because it's likely to give a consistent and stable estimate of the precision score."
   ]
  },
  {
   "cell_type": "code",
   "execution_count": 27,
   "metadata": {},
   "outputs": [],
   "source": [
    "from sklearn.neighbors import KNeighborsClassifier\n",
    "from sklearn.naive_bayes import GaussianNB\n",
    "from sklearn.svm import SVC\n",
    "from sklearn.neighbors import KNeighborsClassifier\n",
    "from sklearn.linear_model import LogisticRegression\n",
    "from sklearn.ensemble import RandomForestClassifier\n",
    "from sklearn.ensemble import AdaBoostClassifier\n",
    "from sklearn.linear_model import Perceptron"
   ]
  },
  {
   "cell_type": "markdown",
   "metadata": {},
   "source": [
    "<h2>4.1 Decision Tree </h2>"
   ]
  },
  {
   "cell_type": "code",
   "execution_count": 28,
   "metadata": {},
   "outputs": [
    {
     "name": "stdout",
     "output_type": "stream",
     "text": [
      "0.9082817280171105\n"
     ]
    }
   ],
   "source": [
    "from sklearn.model_selection import cross_val_score\n",
    "from sklearn.tree import DecisionTreeClassifier\n",
    "dt = DecisionTreeClassifier()\n",
    "dt_score = cross_val_score(dt, X, y, cv=10, scoring='precision')\n",
    "print(dt_score.mean())"
   ]
  },
  {
   "cell_type": "markdown",
   "metadata": {},
   "source": [
    "<h2>4.2 Naive Bayes </h2>\n"
   ]
  },
  {
   "cell_type": "code",
   "execution_count": 29,
   "metadata": {},
   "outputs": [
    {
     "data": {
      "text/plain": [
       "0.9345811965811966"
      ]
     },
     "execution_count": 29,
     "metadata": {},
     "output_type": "execute_result"
    }
   ],
   "source": [
    "nb = GaussianNB()\n",
    "nb_scores_1 = cross_val_score(nb, X, y, cv=10, scoring='precision')\n",
    "nb_scores_1.mean()"
   ]
  },
  {
   "cell_type": "markdown",
   "metadata": {},
   "source": [
    "<h2>4.3 K-Nearest Neighbours (KNN) </h2>\n"
   ]
  },
  {
   "cell_type": "code",
   "execution_count": 30,
   "metadata": {},
   "outputs": [
    {
     "name": "stdout",
     "output_type": "stream",
     "text": [
      "   Neighbours     Score\n",
      "0           3  0.878183\n",
      "1           7  0.864675\n",
      "2          15  0.852048\n",
      "3          25  0.840718\n",
      "4          51  0.819165\n",
      "5          75  0.782762\n"
     ]
    }
   ],
   "source": [
    "knn3 = KNeighborsClassifier(n_neighbors=3)\n",
    "knn7 = KNeighborsClassifier(n_neighbors=7)\n",
    "knn15 = KNeighborsClassifier(n_neighbors=15)\n",
    "knn25 = KNeighborsClassifier(n_neighbors=25)\n",
    "knn51 = KNeighborsClassifier(n_neighbors=51)\n",
    "knn75 = KNeighborsClassifier(n_neighbors=75)\n",
    "knn3_score = cross_val_score(knn3, X, y, cv=10, scoring='precision')\n",
    "knn7_score = cross_val_score(knn7, X, y, cv=10, scoring='precision')\n",
    "knn15_score = cross_val_score(knn15, X, y, cv=10, scoring='precision')\n",
    "knn25_score = cross_val_score(knn25, X, y, cv=10, scoring='precision')\n",
    "knn51_score = cross_val_score(knn51, X, y, cv=10, scoring='precision')\n",
    "knn75_score = cross_val_score(knn75, X, y, cv=10, scoring='precision')\n",
    "knn_accuracy_df = pd.DataFrame.from_dict({ 'Neighbours': [3,7,15,25,51,75],\n",
    "    'Score': [knn3_score.mean(),knn7_score.mean(),knn15_score.mean(),\n",
    "              knn25_score.mean(),knn51_score.mean(),knn75_score.mean()]})\n",
    "print(knn_accuracy_df)"
   ]
  },
  {
   "cell_type": "markdown",
   "metadata": {},
   "source": [
    "<h2>4.4 Support Vector Machine (SVM) - Linear </h2>"
   ]
  },
  {
   "cell_type": "code",
   "execution_count": 31,
   "metadata": {},
   "outputs": [
    {
     "data": {
      "text/plain": [
       "0.7827620967741936"
      ]
     },
     "execution_count": 31,
     "metadata": {},
     "output_type": "execute_result"
    }
   ],
   "source": [
    "svm_linear = SVC(C=.05, kernel='linear')\n",
    "svm_scores_1 = cross_val_score(svm_linear, X, y,cv=10, scoring='precision')\n",
    "svm_scores_1.mean()"
   ]
  },
  {
   "cell_type": "markdown",
   "metadata": {},
   "source": [
    "<h2>4.5 Support Vector Machine (SVM) - Radial Basis Function (RBF) </h2>"
   ]
  },
  {
   "cell_type": "code",
   "execution_count": 32,
   "metadata": {},
   "outputs": [
    {
     "name": "stdout",
     "output_type": "stream",
     "text": [
      "0.7827620967741936\n"
     ]
    }
   ],
   "source": [
    "svm_rbf_1 = SVC(C = 0.1, kernel='rbf', gamma=1) \n",
    "svm_rbf_scores_1 = cross_val_score(svm_rbf_1, X, y, cv=10, scoring='precision')\n",
    "print(svm_rbf_scores_1.mean())"
   ]
  },
  {
   "cell_type": "markdown",
   "metadata": {},
   "source": [
    "<h2>4.6 Perceptron </h2>"
   ]
  },
  {
   "cell_type": "code",
   "execution_count": 33,
   "metadata": {},
   "outputs": [
    {
     "name": "stdout",
     "output_type": "stream",
     "text": [
      "0.9247664480222619\n"
     ]
    }
   ],
   "source": [
    "perceptron_score = cross_val_score(Perceptron(max_iter=100), X, y, cv=2, scoring='precision')\n",
    "print(perceptron_score.mean())"
   ]
  },
  {
   "cell_type": "markdown",
   "metadata": {},
   "source": [
    "<h2>4.7 Random Forest </h2>"
   ]
  },
  {
   "cell_type": "code",
   "execution_count": 34,
   "metadata": {},
   "outputs": [
    {
     "name": "stdout",
     "output_type": "stream",
     "text": [
      "Random Forest Accuracy: 0.89 (+/- 0.06) #estimators: 1\n",
      "Random Forest Accuracy: 0.84 (+/- 0.04) #estimators: 2\n",
      "Random Forest Accuracy: 0.91 (+/- 0.04) #estimators: 3\n",
      "Random Forest Accuracy: 0.88 (+/- 0.06) #estimators: 4\n",
      "Random Forest Accuracy: 0.90 (+/- 0.06) #estimators: 5\n",
      "Random Forest Accuracy: 0.89 (+/- 0.04) #estimators: 10\n",
      "Random Forest Accuracy: 0.90 (+/- 0.05) #estimators: 20\n",
      "Random Forest Accuracy: 0.90 (+/- 0.05) #estimators: 40\n",
      "Random Forest Accuracy: 0.90 (+/- 0.05) #estimators: 100\n"
     ]
    }
   ],
   "source": [
    "n_est_list = [1,2,3,4,5,10,20,40,100]\n",
    "for n_est in n_est_list:\n",
    "    random_forest = RandomForestClassifier(n_estimators=n_est)\n",
    "    scores = cross_val_score(random_forest, X, y, cv=10, scoring='precision')\n",
    "    print(\"Random Forest Accuracy: %.2f (+/- %.2f) #estimators: %d\" % (scores.mean(), scores.std(), n_est))"
   ]
  },
  {
   "cell_type": "markdown",
   "metadata": {},
   "source": [
    "<h2>4.8 Logistic Regression </h2>\n"
   ]
  },
  {
   "cell_type": "code",
   "execution_count": 35,
   "metadata": {},
   "outputs": [
    {
     "name": "stdout",
     "output_type": "stream",
     "text": [
      "0.9077754761203037\n"
     ]
    }
   ],
   "source": [
    "logreg_score = cross_val_score(LogisticRegression(solver='lbfgs', max_iter = 500), X, y, cv=10, scoring='precision')\n",
    "print(logreg_score.mean())"
   ]
  },
  {
   "cell_type": "markdown",
   "metadata": {},
   "source": [
    "<h2>4.9 Extra Trees  </h2>\n"
   ]
  },
  {
   "cell_type": "code",
   "execution_count": 36,
   "metadata": {},
   "outputs": [
    {
     "data": {
      "text/plain": [
       "0.9057671396292086"
      ]
     },
     "execution_count": 36,
     "metadata": {},
     "output_type": "execute_result"
    }
   ],
   "source": [
    "et_score = cross_val_score(ExtraTreesClassifier(100), X, y, cv=10, scoring='precision')\n",
    "et_score.mean()"
   ]
  },
  {
   "cell_type": "markdown",
   "metadata": {},
   "source": [
    "<h2>4.10 Boosting </h2>\n"
   ]
  },
  {
   "cell_type": "code",
   "execution_count": 37,
   "metadata": {},
   "outputs": [
    {
     "name": "stdout",
     "output_type": "stream",
     "text": [
      "Boosting Accuracy: 0.90 (+/- 0.05) #estimators: 1\n",
      "Boosting Accuracy: 0.90 (+/- 0.04) #estimators: 2\n",
      "Boosting Accuracy: 0.91 (+/- 0.05) #estimators: 3\n",
      "Boosting Accuracy: 0.90 (+/- 0.05) #estimators: 4\n",
      "Boosting Accuracy: 0.90 (+/- 0.05) #estimators: 5\n",
      "Boosting Accuracy: 0.90 (+/- 0.05) #estimators: 10\n",
      "Boosting Accuracy: 0.90 (+/- 0.06) #estimators: 15\n",
      "Boosting Accuracy: 0.90 (+/- 0.05) #estimators: 40\n",
      "Boosting Accuracy: 0.90 (+/- 0.04) #estimators: 100\n"
     ]
    }
   ],
   "source": [
    "dt = DecisionTreeClassifier(max_depth=6)\n",
    "n_est_list = [1,2,3,4,5,10,15,40,100]\n",
    "for n_est in n_est_list:\n",
    "    boosting = AdaBoostClassifier(RandomForestClassifier(n_estimators=100), n_estimators=n_est)\n",
    "    scores = cross_val_score(boosting, X, y, cv=10, scoring='precision')\n",
    "    print(\"Boosting Accuracy: %.2f (+/- %.2f) #estimators: %d\" % (scores.mean(), scores.std(), n_est))"
   ]
  },
  {
   "cell_type": "markdown",
   "metadata": {},
   "source": [
    "<H1> 5.Classifier Performance Evaluation </H1>"
   ]
  },
  {
   "cell_type": "code",
   "execution_count": 38,
   "metadata": {},
   "outputs": [],
   "source": [
    "#Splitting \n",
    "from sklearn.metrics import plot_confusion_matrix\n",
    "from sklearn.model_selection import train_test_split\n",
    "X_train, X_test, y_train, y_test = train_test_split(X, y, test_size=0.2, random_state=42)"
   ]
  },
  {
   "cell_type": "markdown",
   "metadata": {},
   "source": [
    "<H2> 5.1 Naive Bayes "
   ]
  },
  {
   "cell_type": "code",
   "execution_count": 39,
   "metadata": {},
   "outputs": [],
   "source": [
    "nb = GaussianNB()\n",
    "nb.fit(X_train, y_train)\n",
    "y_pred_NB = nb.predict(X_test)\n"
   ]
  },
  {
   "cell_type": "markdown",
   "metadata": {},
   "source": [
    "<H2> 5.2 Random Forest "
   ]
  },
  {
   "cell_type": "code",
   "execution_count": 40,
   "metadata": {},
   "outputs": [],
   "source": [
    "Random_Forest = RandomForestClassifier(n_estimators=100, class_weight='balanced')\n",
    "Random_Forest.fit(X_train, y_train)\n",
    "y_pred_RF = Random_Forest.predict(X_test)\n"
   ]
  },
  {
   "cell_type": "markdown",
   "metadata": {},
   "source": [
    "<H2> 5.3 Extra Trees"
   ]
  },
  {
   "cell_type": "code",
   "execution_count": 41,
   "metadata": {},
   "outputs": [],
   "source": [
    "Extra_Trees = ExtraTreesClassifier(n_estimators=100, class_weight='balanced')\n",
    "Extra_Trees.fit(X_train, y_train)\n",
    "y_pred_ET = Extra_Trees.predict(X_test)\n"
   ]
  },
  {
   "cell_type": "markdown",
   "metadata": {},
   "source": [
    "<H1>6. Model Evaluation"
   ]
  },
  {
   "cell_type": "markdown",
   "metadata": {},
   "source": [
    "<H2> 6.1 Confusuion Matrix"
   ]
  },
  {
   "cell_type": "code",
   "execution_count": 42,
   "metadata": {},
   "outputs": [
    {
     "name": "stdout",
     "output_type": "stream",
     "text": [
      "[[40  3]\n",
      " [ 3 17]]\n"
     ]
    }
   ],
   "source": [
    "# Compute confusion matrix for Naive Bayes\n",
    "from sklearn.metrics import confusion_matrix\n",
    "cnf_matrix_nb = confusion_matrix(y_test, y_pred_NB)\n",
    "print(cnf_matrix_nb)"
   ]
  },
  {
   "cell_type": "code",
   "execution_count": 43,
   "metadata": {},
   "outputs": [],
   "source": [
    "TP_NB = cnf_matrix_nb[0,0]\n",
    "FP_NB = cnf_matrix_nb[1,0]\n",
    "FN_NB = cnf_matrix_nb[0,1]\n",
    "TN_NB = cnf_matrix_nb[1,1]\n",
    "P_NB = TP_NB+FN_NB\n",
    "N_NB = TN_NB+FP_NB"
   ]
  },
  {
   "cell_type": "code",
   "execution_count": 44,
   "metadata": {},
   "outputs": [
    {
     "name": "stdout",
     "output_type": "stream",
     "text": [
      "[[42  1]\n",
      " [ 7 13]]\n"
     ]
    }
   ],
   "source": [
    "# Compute confusion matrix for Random Forest\n",
    "cnf_matrix = confusion_matrix(y_test, y_pred_RF)\n",
    "print(cnf_matrix)\n"
   ]
  },
  {
   "cell_type": "code",
   "execution_count": 45,
   "metadata": {},
   "outputs": [],
   "source": [
    "TP = cnf_matrix[0,0]\n",
    "FP = cnf_matrix[1,0]\n",
    "FN = cnf_matrix[0,1]\n",
    "TN = cnf_matrix[1,1]\n",
    "P = TP+FN\n",
    "N = TN+FP"
   ]
  },
  {
   "cell_type": "code",
   "execution_count": 46,
   "metadata": {},
   "outputs": [
    {
     "name": "stdout",
     "output_type": "stream",
     "text": [
      "[[42  1]\n",
      " [ 5 15]]\n"
     ]
    }
   ],
   "source": [
    "# Compute confusion matrix for Extra Trees Classifier\n",
    "cnf_matrix_ET = confusion_matrix(y_test, y_pred_ET)\n",
    "print(cnf_matrix_ET)"
   ]
  },
  {
   "cell_type": "code",
   "execution_count": 47,
   "metadata": {},
   "outputs": [],
   "source": [
    "TP_ET = cnf_matrix_ET[0,0]\n",
    "FP_ET = cnf_matrix_ET[1,0]\n",
    "FN_ET = cnf_matrix_ET[0,1]\n",
    "TN_ET = cnf_matrix_ET[1,1]\n",
    "P_ET = TP_ET+FN_ET\n",
    "N_ET = TN_ET+FP_ET"
   ]
  },
  {
   "cell_type": "markdown",
   "metadata": {},
   "source": [
    "<H2>6.2 Accuracy"
   ]
  },
  {
   "cell_type": "markdown",
   "metadata": {},
   "source": [
    "Random Forest & Naive Bayes perform better than Extra trees but as explained earlier due to the assymmetric costs involved with different decisions we cannot proceed with normal accuracy measure."
   ]
  },
  {
   "cell_type": "code",
   "execution_count": 48,
   "metadata": {},
   "outputs": [
    {
     "name": "stdout",
     "output_type": "stream",
     "text": [
      "Accuracy (Naive Bayes): 0.9\n",
      "Accuracy (Random Forest): 0.87\n",
      "Accuracy (Extra Tree Classifier): 0.9\n"
     ]
    }
   ],
   "source": [
    "Accuracy_NB = round((TP_NB + TN_NB)/(TP_NB + TN_NB + FP_NB + FN_NB),2)\n",
    "Accuracy_RF = round((TP + TN)/(TP + TN + FP +FN),2)\n",
    "Accuracy_ET = round((TP_ET + TN_ET)/(TP_ET + TN_ET + FP_ET + FN_ET),2)\n",
    "print(\"Accuracy (Naive Bayes): \" + str(Accuracy_NB))\n",
    "print(\"Accuracy (Random Forest): \" + str(Accuracy_RF))\n",
    "print(\"Accuracy (Extra Tree Classifier): \" + str(Accuracy_ET))"
   ]
  },
  {
   "cell_type": "markdown",
   "metadata": {},
   "source": [
    "<H2>6.3 Sensitivity/Recall/TPR"
   ]
  },
  {
   "cell_type": "markdown",
   "metadata": {},
   "source": [
    "Random Forest performs best on the sensitivity metric, followed closely by Extra Trees classifer. Although Naive Bayes isn't too bad but still there is a significant 10% gap. However we must remeber viewing sensitivity alone can be very misleading as classifiers could predict most values as positive and still get a good recall score"
   ]
  },
  {
   "cell_type": "code",
   "execution_count": 49,
   "metadata": {},
   "outputs": [
    {
     "name": "stdout",
     "output_type": "stream",
     "text": [
      "Sensitivity/Recall/TPR (Naive Bayes): 0.93\n",
      "Sensitivity/Recall/TPR (Random Forest): 0.98\n",
      "Sensitivity/Recall/TPR (Extra Tree Classifier): 0.98\n"
     ]
    }
   ],
   "source": [
    "Recall_NB = round(TP_NB/P_NB,2)\n",
    "Recall_RF = round(TP/P,2)\n",
    "Recall_ET = round(TP_ET/P_ET,2)\n",
    "print(\"Sensitivity/Recall/TPR (Naive Bayes): \" + str(Recall_NB))\n",
    "print(\"Sensitivity/Recall/TPR (Random Forest): \" + str(Recall_RF))\n",
    "print(\"Sensitivity/Recall/TPR (Extra Tree Classifier): \" + str(Recall_ET))\n",
    "\n"
   ]
  },
  {
   "cell_type": "markdown",
   "metadata": {},
   "source": [
    "<H2>6.4 Specificity/Selectivity/TNR\n"
   ]
  },
  {
   "cell_type": "markdown",
   "metadata": {},
   "source": [
    "Each classifer's performance is sub-par when it comes to rightly identifying a bad credit (negative class), However Naive Bayes seems significantly better than other 2 tree classifiers"
   ]
  },
  {
   "cell_type": "code",
   "execution_count": 50,
   "metadata": {},
   "outputs": [
    {
     "name": "stdout",
     "output_type": "stream",
     "text": [
      "Specificity/Selectivity/TNR (Naive Bayes): 0.85\n",
      "Specificity/Selectivity/TNR (Random Forest): 0.65\n",
      "Specificity/Selectivity/TNR (Extra Tree Classifier): 0.75\n"
     ]
    }
   ],
   "source": [
    "print(\"Specificity/Selectivity/TNR (Naive Bayes): \" + str(round(TN_NB/N_NB,2)))\n",
    "print(\"Specificity/Selectivity/TNR (Random Forest): \" + str(round(TN/N,2)))\n",
    "print(\"Specificity/Selectivity/TNR (Extra Tree Classifier): \" + str(round(TN_ET/N_ET,2)))"
   ]
  },
  {
   "cell_type": "markdown",
   "metadata": {},
   "source": [
    "<H2>6.5 Precision\n"
   ]
  },
  {
   "cell_type": "markdown",
   "metadata": {},
   "source": [
    "Precision is used to measure the effect of False postives, which is very vital for the credit risk data set, and performance of each of the classfiers is good if not great. Naive Bayes has slightly higher precision than Random Forest which performs slightly better than Extra Tree Classifier."
   ]
  },
  {
   "cell_type": "code",
   "execution_count": 51,
   "metadata": {},
   "outputs": [
    {
     "name": "stdout",
     "output_type": "stream",
     "text": [
      "Precision (Naive Bayes): 0.93\n",
      "Precision (Random Forest): 0.86\n",
      "Precision (Extra Tree Classifier): 0.89\n"
     ]
    }
   ],
   "source": [
    "Precision_NB = round(TP_NB/(TP_NB+FP_NB),2)\n",
    "Precision_RF = round(TP/(TP+FP),2)\n",
    "Precision_ET = round(TP_ET/(TP_ET+FP_ET),2)\n",
    "print(\"Precision (Naive Bayes): \" + str(Precision_NB))\n",
    "print(\"Precision (Random Forest): \" + str(Precision_RF))\n",
    "print(\"Precision (Extra Tree Classifier): \" + str(Precision_ET))"
   ]
  },
  {
   "cell_type": "markdown",
   "metadata": {},
   "source": [
    "<H2>6.6 F Measure\n"
   ]
  },
  {
   "cell_type": "markdown",
   "metadata": {},
   "source": [
    "F measure is a measure which tries to balance the effect of precision and Recall by combining them together. Overall Random Forest has the highest score and is  followed by Extra Tree Classifier, Naive Bayes  "
   ]
  },
  {
   "cell_type": "code",
   "execution_count": 52,
   "metadata": {},
   "outputs": [
    {
     "name": "stdout",
     "output_type": "stream",
     "text": [
      "F Measure (Naive Bayes): 0.93\n",
      "F Measure (Random Forest): 0.92\n",
      "F Measure (Extra Tree Classifier): 0.93\n"
     ]
    }
   ],
   "source": [
    "F_NB = round((2 * Precision_NB * Recall_NB)/ (Precision_NB + Recall_NB),2)\n",
    "F_RF = round((2 * Precision_RF * Recall_RF)/ (Precision_RF + Recall_RF),2)\n",
    "F_ET = round((2 * Precision_ET * Recall_ET)/ (Precision_ET + Recall_ET),2)\n",
    "print(\"F Measure (Naive Bayes): \" + str(F_NB))\n",
    "print(\"F Measure (Random Forest): \" + str(F_RF))\n",
    "print(\"F Measure (Extra Tree Classifier): \" + str(F_ET))"
   ]
  },
  {
   "cell_type": "markdown",
   "metadata": {},
   "source": [
    "<H2>6.7 ROC Curve"
   ]
  },
  {
   "cell_type": "markdown",
   "metadata": {},
   "source": [
    "Since we know that ROC is a class specific feature we'll chart out ROC for both the classes separately. From the below plots it's eveident that all the classifier almost have the same amount of area for each of the classes, but Naive Bayes and Random Forest are slightly better than Extra Trees classifier"
   ]
  },
  {
   "cell_type": "markdown",
   "metadata": {},
   "source": [
    "<H3>6.7.1 ROC Curve for Naive Bayes"
   ]
  },
  {
   "cell_type": "code",
   "execution_count": 53,
   "metadata": {},
   "outputs": [
    {
     "data": {
      "image/png": "[encoded data removed]",
      "text/plain": [
       "<Figure size 432x288 with 1 Axes>"
      ]
     },
     "metadata": {},
     "output_type": "display_data"
    }
   ],
   "source": [
    "import numpy as np\n",
    "import sklearn.metrics as metrics\n",
    "# calculate the fpr and tpr for all thresholds of the classification\n",
    "probs = nb.predict_proba(X_test)\n",
    "preds = probs[:,1]\n",
    "y_test_1 = y_test.map({1:0, 2:1})\n",
    "y_pred_1 = np.where(y_pred_NB==1, 0, 1) \n",
    "fpr, tpr, threshold = metrics.roc_curve(y_test_1, y_pred_1)\n",
    "roc_auc = metrics.auc(fpr, tpr)\n",
    "\n",
    "plt.title('Receiver Operating Characteristic')\n",
    "plt.plot(fpr, tpr, 'b', label = 'AUC = %0.2f' % roc_auc)\n",
    "plt.legend(loc = 'lower right')\n",
    "plt.plot([0, 1], [0, 1],'r--')\n",
    "plt.xlim([0, 1])\n",
    "plt.ylim([0, 1])\n",
    "plt.ylabel('True Positive Rate')\n",
    "plt.xlabel('False Positive Rate')\n",
    "plt.show()"
   ]
  },
  {
   "cell_type": "code",
   "execution_count": 54,
   "metadata": {},
   "outputs": [
    {
     "data": {
      "image/png": "[encoded data removed]",
      "text/plain": [
       "<Figure size 432x288 with 1 Axes>"
      ]
     },
     "metadata": {},
     "output_type": "display_data"
    }
   ],
   "source": [
    "y_test_2 = y_test.map({2:0, 1:1})\n",
    "y_pred_2 = np.where(y_pred_NB==2, 0, 1) \n",
    "fpr, tpr, threshold = metrics.roc_curve(y_test_2, y_pred_2)\n",
    "roc_auc = metrics.auc(fpr, tpr)\n",
    "\n",
    "plt.title('Receiver Operating Characteristic')\n",
    "plt.plot(fpr, tpr, 'b', label = 'AUC = %0.2f' % roc_auc)\n",
    "plt.legend(loc = 'lower right')\n",
    "plt.plot([0, 1], [0, 1],'r--')\n",
    "plt.xlim([0, 1])\n",
    "plt.ylim([0, 1])\n",
    "plt.ylabel('True Negative Rate')\n",
    "plt.xlabel('False Nagative Rate')\n",
    "plt.show()"
   ]
  },
  {
   "cell_type": "markdown",
   "metadata": {},
   "source": [
    "<H3>6.7.2 ROC Curve for Random Forest "
   ]
  },
  {
   "cell_type": "code",
   "execution_count": 55,
   "metadata": {},
   "outputs": [
    {
     "data": {
      "image/png": "[encoded data removed]",
      "text/plain": [
       "<Figure size 432x288 with 1 Axes>"
      ]
     },
     "metadata": {},
     "output_type": "display_data"
    }
   ],
   "source": [
    "# calculate the fpr and tpr for all thresholds of the classification\n",
    "probs = Random_Forest.predict_proba(X_test)\n",
    "preds = probs[:,1]\n",
    "y_test_1 = y_test.map({1:0, 2:1})\n",
    "y_pred_1 = np.where(y_pred_RF==1, 0, 1) \n",
    "fpr, tpr, threshold = metrics.roc_curve(y_test_1, y_pred_1)\n",
    "roc_auc = metrics.auc(fpr, tpr)\n",
    "\n",
    "plt.title('Receiver Operating Characteristic')\n",
    "plt.plot(fpr, tpr, 'b', label = 'AUC = %0.2f' % roc_auc)\n",
    "plt.legend(loc = 'lower right')\n",
    "plt.plot([0, 1], [0, 1],'r--')\n",
    "plt.xlim([0, 1])\n",
    "plt.ylim([0, 1])\n",
    "plt.ylabel('True Positive Rate')\n",
    "plt.xlabel('False Positive Rate')\n",
    "plt.show()"
   ]
  },
  {
   "cell_type": "code",
   "execution_count": 56,
   "metadata": {},
   "outputs": [
    {
     "data": {
      "image/png": "[encoded data removed]",
      "text/plain": [
       "<Figure size 432x288 with 1 Axes>"
      ]
     },
     "metadata": {},
     "output_type": "display_data"
    }
   ],
   "source": [
    "y_test_2 = y_test.map({2:0, 1:1})\n",
    "y_pred_2 = np.where(y_pred_RF==2, 0, 1) \n",
    "fpr, tpr, threshold = metrics.roc_curve(y_test_2, y_pred_2)\n",
    "roc_auc = metrics.auc(fpr, tpr)\n",
    "\n",
    "plt.title('Receiver Operating Characteristic')\n",
    "plt.plot(fpr, tpr, 'b', label = 'AUC = %0.2f' % roc_auc)\n",
    "plt.legend(loc = 'lower right')\n",
    "plt.plot([0, 1], [0, 1],'r--')\n",
    "plt.xlim([0, 1])\n",
    "plt.ylim([0, 1])\n",
    "plt.ylabel('True Negative Rate')\n",
    "plt.xlabel('False Nagative Rate')\n",
    "plt.show()"
   ]
  },
  {
   "cell_type": "markdown",
   "metadata": {},
   "source": [
    "<H3>6.7.3 ROC Curve for Extra Trees "
   ]
  },
  {
   "cell_type": "code",
   "execution_count": 57,
   "metadata": {},
   "outputs": [
    {
     "data": {
      "image/png": "[encoded data removed]",
      "text/plain": [
       "<Figure size 432x288 with 1 Axes>"
      ]
     },
     "metadata": {},
     "output_type": "display_data"
    }
   ],
   "source": [
    "# calculate the fpr and tpr for all thresholds of the classification\n",
    "probs = Extra_Trees.predict_proba(X_test)\n",
    "preds = probs[:,1]\n",
    "y_test_1 = y_test.map({1:0, 2:1})\n",
    "y_pred_1 = np.where(y_pred_ET==1, 0, 1) \n",
    "fpr, tpr, threshold = metrics.roc_curve(y_test_1, y_pred_1)\n",
    "roc_auc = metrics.auc(fpr, tpr)\n",
    "\n",
    "plt.title('Receiver Operating Characteristic')\n",
    "plt.plot(fpr, tpr, 'b', label = 'AUC = %0.2f' % roc_auc)\n",
    "plt.legend(loc = 'lower right')\n",
    "plt.plot([0, 1], [0, 1],'r--')\n",
    "plt.xlim([0, 1])\n",
    "plt.ylim([0, 1])\n",
    "plt.ylabel('True Positive Rate')\n",
    "plt.xlabel('False Positive Rate')\n",
    "plt.show()"
   ]
  },
  {
   "cell_type": "code",
   "execution_count": 58,
   "metadata": {},
   "outputs": [
    {
     "data": {
      "image/png": "[encoded data removed]",
      "text/plain": [
       "<Figure size 432x288 with 1 Axes>"
      ]
     },
     "metadata": {},
     "output_type": "display_data"
    }
   ],
   "source": [
    "y_test_2 = y_test.map({2:0, 1:1})\n",
    "y_pred_2 = np.where(y_pred_ET==2, 0, 1) \n",
    "fpr, tpr, threshold = metrics.roc_curve(y_test_2, y_pred_2)\n",
    "roc_auc = metrics.auc(fpr, tpr)\n",
    "\n",
    "plt.title('Receiver Operating Characteristic')\n",
    "plt.plot(fpr, tpr, 'b', label = 'AUC = %0.2f' % roc_auc)\n",
    "plt.legend(loc = 'lower right')\n",
    "plt.plot([0, 1], [0, 1],'r--')\n",
    "plt.xlim([0, 1])\n",
    "plt.ylim([0, 1])\n",
    "plt.ylabel('True Negative Rate')\n",
    "plt.xlabel('False Nagative Rate')\n",
    "plt.show()"
   ]
  },
  {
   "cell_type": "code",
   "execution_count": null,
   "metadata": {},
   "outputs": [],
   "source": []
  },
  {
   "cell_type": "code",
   "execution_count": null,
   "metadata": {},
   "outputs": [],
   "source": []
  },
  {
   "cell_type": "code",
   "execution_count": null,
   "metadata": {},
   "outputs": [],
   "source": []
  },
  {
   "cell_type": "code",
   "execution_count": null,
   "metadata": {},
   "outputs": [],
   "source": []
  },
  {
   "cell_type": "code",
   "execution_count": null,
   "metadata": {},
   "outputs": [],
   "source": []
  },
  {
   "cell_type": "code",
   "execution_count": null,
   "metadata": {},
   "outputs": [],
   "source": []
  },
  {
   "cell_type": "code",
   "execution_count": null,
   "metadata": {},
   "outputs": [],
   "source": []
  },
  {
   "cell_type": "code",
   "execution_count": null,
   "metadata": {},
   "outputs": [],
   "source": []
  },
  {
   "cell_type": "code",
   "execution_count": null,
   "metadata": {},
   "outputs": [],
   "source": []
  },
  {
   "cell_type": "code",
   "execution_count": null,
   "metadata": {},
   "outputs": [],
   "source": []
  },
  {
   "cell_type": "code",
   "execution_count": null,
   "metadata": {},
   "outputs": [],
   "source": []
  },
  {
   "cell_type": "code",
   "execution_count": null,
   "metadata": {},
   "outputs": [],
   "source": []
  },
  {
   "cell_type": "code",
   "execution_count": null,
   "metadata": {},
   "outputs": [],
   "source": []
  },
  {
   "cell_type": "code",
   "execution_count": 59,
   "metadata": {},
   "outputs": [],
   "source": [
    "\n",
    "\n",
    "# Function to get profits out of the predicted value\n",
    "# Parameters\n",
    "# cnf_mat_tuple - Tuple conataining confusion matrix components in this order 1. True Positive 2. False \n",
    "def GetProfits(cnf_mat_tuple, variable, classifier =  '',constant = 1000, variableLabel = 'customers', perc = 0.35):\n",
    "    TP = cnf_mat_tuple[0]\n",
    "    FP = cnf_mat_tuple[1]\n",
    "    TN = cnf_mat_tuple[2]\n",
    "    FN = cnf_mat_tuple[3]\n",
    "    TP_perc = TP / (TP+FP+FN+TN)\n",
    "    FP_perc = FP / (TP+FP+FN+TN)\n",
    "    FN_perc = FN / (TP+FP+FN+TN)\n",
    "    TN_perc = TN / (TP+FP+FN+TN)\n",
    "    \n",
    "    profit = []\n",
    "    count = 0\n",
    "    for i in range(len(variable)):\n",
    "        profit.append([variable[i], \n",
    "                     round((variable[i] * TP_perc * (constant * (1 + (perc)))) - (\n",
    "                         (variable[i] * FP_perc * constant) + (variable[i] * FN_perc * (constant * perc))\n",
    "                     ),2), classifier])\n",
    "        count = count + 1\n",
    "    return pd.DataFrame(profit, columns=[variableLabel, 'profit', 'classifier'])\n",
    "\n"
   ]
  },
  {
   "cell_type": "code",
   "execution_count": 60,
   "metadata": {},
   "outputs": [
    {
     "name": "stdout",
     "output_type": "stream",
     "text": [
      "Sanity Test\n",
      "Less than 50% accuracy\n",
      "   customers   profit\n",
      "0          1   -72.22\n",
      "1          5  -361.11\n",
      "2         10  -722.22\n",
      "3         15 -1083.33\n",
      "Exactly 50% accuracy\n",
      "   customers  profit\n",
      "0          1     0.0\n",
      "1          5     0.0\n",
      "2         10     0.0\n",
      "3         15     0.0\n",
      "More than 50% accuracy\n",
      "   customers  profit\n",
      "0          1   270.0\n",
      "1          5  1350.0\n",
      "2         10  2700.0\n",
      "3         15  4050.0\n"
     ]
    }
   ],
   "source": [
    "print(\"Sanity Test\")\n",
    "print(\"Less than 50% accuracy\")\n",
    "print(GetProfits((10,15,15,5),[1,5,10,15]).iloc[:,0:2]) # Less than 50% accuracy\n",
    "print(\"Exactly 50% accuracy\")\n",
    "print(GetProfits((5,5,5,5),[1,5,10,15]).iloc[:,0:2]) # Exactly 50% accuracy\n",
    "print(\"More than 50% accuracy\")\n",
    "print(GetProfits((10,5,5,5),[1,5,10,15]).iloc[:,0:2]) # More than 50% accuraccy. To be specific 60% accuracy"
   ]
  },
  {
   "cell_type": "code",
   "execution_count": 61,
   "metadata": {},
   "outputs": [
    {
     "name": "stdout",
     "output_type": "stream",
     "text": [
      "Naive Bayes\n",
      "    customers       profit\n",
      "0          10      7150.79\n",
      "1         100     71507.94\n",
      "2         500    357539.68\n",
      "3        1000    715079.37\n",
      "4        5000   3575396.83\n",
      "5       10000   7150793.65\n",
      "6       15000  10726190.48\n",
      "7       25000  17876984.13\n",
      "8       40000  28603174.60\n",
      "9       50000  35753968.25\n",
      "10      60000  42904761.90\n",
      "11      75000  53630952.38\n",
      "12      90000  64357142.86\n",
      "13     100000  71507936.51\n",
      "Random Forest\n",
      "    customers       profit\n",
      "0          10      7166.67\n",
      "1         100     71666.67\n",
      "2         500    358333.33\n",
      "3        1000    716666.67\n",
      "4        5000   3583333.33\n",
      "5       10000   7166666.67\n",
      "6       15000  10750000.00\n",
      "7       25000  17916666.67\n",
      "8       40000  28666666.67\n",
      "9       50000  35833333.33\n",
      "10      60000  43000000.00\n",
      "11      75000  53750000.00\n",
      "12      90000  64500000.00\n",
      "13     100000  71666666.67\n",
      "Extra Trees Classifier\n",
      "    customers       profit\n",
      "0          10      7373.02\n",
      "1         100     73730.16\n",
      "2         500    368650.79\n",
      "3        1000    737301.59\n",
      "4        5000   3686507.94\n",
      "5       10000   7373015.87\n",
      "6       15000  11059523.81\n",
      "7       25000  18432539.68\n",
      "8       40000  29492063.49\n",
      "9       50000  36865079.37\n",
      "10      60000  44238095.24\n",
      "11      75000  55297619.05\n",
      "12      90000  66357142.86\n",
      "13     100000  73730158.73\n"
     ]
    }
   ],
   "source": [
    "customers= [10, 100, 500, 1000, 5000, 10000, 15000, 25000, 40000, 50000, 60000, 75000, 90000, 100000]\n",
    "\n",
    "print(\"Naive Bayes\")\n",
    "df_customer_NB = GetProfits((TP_NB, FP_NB, FN_NB, TN_NB), customers, 'Naive Bayes')\n",
    "print(df_customer_NB.iloc[:,0:2])\n",
    "\n",
    "print(\"Random Forest\")\n",
    "df_customer_RF = GetProfits((TP, FP, FN, TN), customers, 'Random Forest')\n",
    "print(df_customer_RF.iloc[:,0:2])\n",
    "\n",
    "print(\"Extra Trees Classifier\")\n",
    "df_customer_ET = GetProfits((TP_ET, FP_ET, FN_ET, TN_ET), customers, 'Extra Trees Classifier')\n",
    "print(df_customer_ET.iloc[:,0:2])"
   ]
  },
  {
   "cell_type": "code",
   "execution_count": 62,
   "metadata": {},
   "outputs": [
    {
     "data": {
      "text/plain": [
       "<AxesSubplot:xlabel='customers', ylabel='profit'>"
      ]
     },
     "execution_count": 62,
     "metadata": {},
     "output_type": "execute_result"
    },
    {
     "data": {
      "image/png": "[encoded data removed]",
      "text/plain": [
       "<Figure size 1080x576 with 1 Axes>"
      ]
     },
     "metadata": {},
     "output_type": "display_data"
    }
   ],
   "source": [
    "df_classifiers = pd.concat([df_customer_NB, df_customer_RF, df_customer_ET])\n",
    "plt.figure(figsize=(15,8))\n",
    "sns.pointplot(x=\"customers\", y=\"profit\", hue = \"classifier\", data=df_classifiers)"
   ]
  },
  {
   "cell_type": "code",
   "execution_count": null,
   "metadata": {},
   "outputs": [],
   "source": []
  },
  {
   "cell_type": "code",
   "execution_count": 63,
   "metadata": {},
   "outputs": [
    {
     "data": {
      "text/html": [
       "<div>\n",
       "<style scoped>\n",
       "    .dataframe tbody tr th:only-of-type {\n",
       "        vertical-align: middle;\n",
       "    }\n",
       "\n",
       "    .dataframe tbody tr th {\n",
       "        vertical-align: top;\n",
       "    }\n",
       "\n",
       "    .dataframe thead th {\n",
       "        text-align: right;\n",
       "    }\n",
       "</style>\n",
       "<table border=\"1\" class=\"dataframe\">\n",
       "  <thead>\n",
       "    <tr style=\"text-align: right;\">\n",
       "      <th></th>\n",
       "      <th>Forme_juridique</th>\n",
       "      <th>Ancienneté</th>\n",
       "      <th>R1</th>\n",
       "      <th>R2</th>\n",
       "      <th>R3</th>\n",
       "      <th>R4</th>\n",
       "      <th>R5</th>\n",
       "      <th>R6</th>\n",
       "      <th>R7</th>\n",
       "      <th>X1</th>\n",
       "      <th>X2</th>\n",
       "      <th>X3</th>\n",
       "      <th>X4</th>\n",
       "      <th>X5</th>\n",
       "      <th>Z</th>\n",
       "      <th>statut</th>\n",
       "    </tr>\n",
       "  </thead>\n",
       "  <tbody>\n",
       "    <tr>\n",
       "      <th>9</th>\n",
       "      <td>1</td>\n",
       "      <td>0</td>\n",
       "      <td>0.77778</td>\n",
       "      <td>-0.22128</td>\n",
       "      <td>1.51669</td>\n",
       "      <td>0.00288</td>\n",
       "      <td>0.06487</td>\n",
       "      <td>0.21819</td>\n",
       "      <td>0.01769</td>\n",
       "      <td>0.24301</td>\n",
       "      <td>0.01271</td>\n",
       "      <td>0.17135</td>\n",
       "      <td>1.24627</td>\n",
       "      <td>0.46820</td>\n",
       "      <td>2.090823</td>\n",
       "      <td>1</td>\n",
       "    </tr>\n",
       "    <tr>\n",
       "      <th>10</th>\n",
       "      <td>1</td>\n",
       "      <td>0</td>\n",
       "      <td>0.76554</td>\n",
       "      <td>-0.55612</td>\n",
       "      <td>1.30405</td>\n",
       "      <td>0.01083</td>\n",
       "      <td>0.05216</td>\n",
       "      <td>0.13413</td>\n",
       "      <td>-0.00152</td>\n",
       "      <td>0.18352</td>\n",
       "      <td>0.01387</td>\n",
       "      <td>0.19601</td>\n",
       "      <td>1.51616</td>\n",
       "      <td>0.53135</td>\n",
       "      <td>2.327521</td>\n",
       "      <td>1</td>\n",
       "    </tr>\n",
       "    <tr>\n",
       "      <th>15</th>\n",
       "      <td>0</td>\n",
       "      <td>1</td>\n",
       "      <td>0.67823</td>\n",
       "      <td>0.04699</td>\n",
       "      <td>1.75014</td>\n",
       "      <td>0.10678</td>\n",
       "      <td>0.27625</td>\n",
       "      <td>0.45175</td>\n",
       "      <td>-0.04893</td>\n",
       "      <td>0.34649</td>\n",
       "      <td>0.02071</td>\n",
       "      <td>0.11688</td>\n",
       "      <td>1.21372</td>\n",
       "      <td>0.61769</td>\n",
       "      <td>2.176408</td>\n",
       "      <td>1</td>\n",
       "    </tr>\n",
       "    <tr>\n",
       "      <th>16</th>\n",
       "      <td>0</td>\n",
       "      <td>1</td>\n",
       "      <td>0.63594</td>\n",
       "      <td>0.10041</td>\n",
       "      <td>1.79789</td>\n",
       "      <td>0.17689</td>\n",
       "      <td>0.35784</td>\n",
       "      <td>0.49587</td>\n",
       "      <td>-0.05488</td>\n",
       "      <td>0.35257</td>\n",
       "      <td>0.02013</td>\n",
       "      <td>0.05109</td>\n",
       "      <td>1.02108</td>\n",
       "      <td>0.46296</td>\n",
       "      <td>1.695471</td>\n",
       "      <td>2</td>\n",
       "    </tr>\n",
       "    <tr>\n",
       "      <th>17</th>\n",
       "      <td>0</td>\n",
       "      <td>1</td>\n",
       "      <td>0.67069</td>\n",
       "      <td>0.16601</td>\n",
       "      <td>1.71128</td>\n",
       "      <td>0.14216</td>\n",
       "      <td>0.50070</td>\n",
       "      <td>0.50842</td>\n",
       "      <td>-0.01968</td>\n",
       "      <td>0.31261</td>\n",
       "      <td>0.02054</td>\n",
       "      <td>0.06555</td>\n",
       "      <td>1.01787</td>\n",
       "      <td>0.40674</td>\n",
       "      <td>1.637665</td>\n",
       "      <td>2</td>\n",
       "    </tr>\n",
       "    <tr>\n",
       "      <th>...</th>\n",
       "      <td>...</td>\n",
       "      <td>...</td>\n",
       "      <td>...</td>\n",
       "      <td>...</td>\n",
       "      <td>...</td>\n",
       "      <td>...</td>\n",
       "      <td>...</td>\n",
       "      <td>...</td>\n",
       "      <td>...</td>\n",
       "      <td>...</td>\n",
       "      <td>...</td>\n",
       "      <td>...</td>\n",
       "      <td>...</td>\n",
       "      <td>...</td>\n",
       "      <td>...</td>\n",
       "      <td>...</td>\n",
       "    </tr>\n",
       "    <tr>\n",
       "      <th>1035</th>\n",
       "      <td>1</td>\n",
       "      <td>3</td>\n",
       "      <td>1.00000</td>\n",
       "      <td>-0.04058</td>\n",
       "      <td>2.69119</td>\n",
       "      <td>0.00269</td>\n",
       "      <td>0.84497</td>\n",
       "      <td>0.65755</td>\n",
       "      <td>0.72160</td>\n",
       "      <td>0.14221</td>\n",
       "      <td>0.00000</td>\n",
       "      <td>0.04937</td>\n",
       "      <td>0.29249</td>\n",
       "      <td>1.10167</td>\n",
       "      <td>1.610737</td>\n",
       "      <td>2</td>\n",
       "    </tr>\n",
       "    <tr>\n",
       "      <th>1036</th>\n",
       "      <td>1</td>\n",
       "      <td>3</td>\n",
       "      <td>0.90527</td>\n",
       "      <td>-0.18993</td>\n",
       "      <td>2.75878</td>\n",
       "      <td>0.04637</td>\n",
       "      <td>0.45270</td>\n",
       "      <td>0.47298</td>\n",
       "      <td>0.39017</td>\n",
       "      <td>0.16372</td>\n",
       "      <td>0.00921</td>\n",
       "      <td>0.03984</td>\n",
       "      <td>0.30289</td>\n",
       "      <td>1.37575</td>\n",
       "      <td>1.898314</td>\n",
       "      <td>1</td>\n",
       "    </tr>\n",
       "    <tr>\n",
       "      <th>1037</th>\n",
       "      <td>1</td>\n",
       "      <td>3</td>\n",
       "      <td>0.86845</td>\n",
       "      <td>-0.04210</td>\n",
       "      <td>4.28316</td>\n",
       "      <td>0.01717</td>\n",
       "      <td>0.74894</td>\n",
       "      <td>0.71804</td>\n",
       "      <td>0.43970</td>\n",
       "      <td>0.24452</td>\n",
       "      <td>0.00615</td>\n",
       "      <td>0.25373</td>\n",
       "      <td>0.38318</td>\n",
       "      <td>1.14098</td>\n",
       "      <td>2.510231</td>\n",
       "      <td>1</td>\n",
       "    </tr>\n",
       "    <tr>\n",
       "      <th>1047</th>\n",
       "      <td>1</td>\n",
       "      <td>3</td>\n",
       "      <td>0.66793</td>\n",
       "      <td>-0.17236</td>\n",
       "      <td>1.93145</td>\n",
       "      <td>0.00457</td>\n",
       "      <td>0.21969</td>\n",
       "      <td>0.00000</td>\n",
       "      <td>0.16126</td>\n",
       "      <td>0.32945</td>\n",
       "      <td>0.00000</td>\n",
       "      <td>0.38548</td>\n",
       "      <td>0.83921</td>\n",
       "      <td>0.75106</td>\n",
       "      <td>2.922010</td>\n",
       "      <td>1</td>\n",
       "    </tr>\n",
       "    <tr>\n",
       "      <th>1049</th>\n",
       "      <td>1</td>\n",
       "      <td>3</td>\n",
       "      <td>1.00000</td>\n",
       "      <td>0.01897</td>\n",
       "      <td>2.81445</td>\n",
       "      <td>0.00980</td>\n",
       "      <td>0.74601</td>\n",
       "      <td>0.11552</td>\n",
       "      <td>0.45915</td>\n",
       "      <td>0.34515</td>\n",
       "      <td>0.00000</td>\n",
       "      <td>0.40392</td>\n",
       "      <td>1.15228</td>\n",
       "      <td>0.86142</td>\n",
       "      <td>3.299904</td>\n",
       "      <td>1</td>\n",
       "    </tr>\n",
       "  </tbody>\n",
       "</table>\n",
       "<p>313 rows × 16 columns</p>\n",
       "</div>"
      ],
      "text/plain": [
       "      Forme_juridique  Ancienneté       R1       R2       R3       R4  \\\n",
       "9                   1           0  0.77778 -0.22128  1.51669  0.00288   \n",
       "10                  1           0  0.76554 -0.55612  1.30405  0.01083   \n",
       "15                  0           1  0.67823  0.04699  1.75014  0.10678   \n",
       "16                  0           1  0.63594  0.10041  1.79789  0.17689   \n",
       "17                  0           1  0.67069  0.16601  1.71128  0.14216   \n",
       "...               ...         ...      ...      ...      ...      ...   \n",
       "1035                1           3  1.00000 -0.04058  2.69119  0.00269   \n",
       "1036                1           3  0.90527 -0.18993  2.75878  0.04637   \n",
       "1037                1           3  0.86845 -0.04210  4.28316  0.01717   \n",
       "1047                1           3  0.66793 -0.17236  1.93145  0.00457   \n",
       "1049                1           3  1.00000  0.01897  2.81445  0.00980   \n",
       "\n",
       "           R5       R6       R7       X1       X2       X3       X4       X5  \\\n",
       "9     0.06487  0.21819  0.01769  0.24301  0.01271  0.17135  1.24627  0.46820   \n",
       "10    0.05216  0.13413 -0.00152  0.18352  0.01387  0.19601  1.51616  0.53135   \n",
       "15    0.27625  0.45175 -0.04893  0.34649  0.02071  0.11688  1.21372  0.61769   \n",
       "16    0.35784  0.49587 -0.05488  0.35257  0.02013  0.05109  1.02108  0.46296   \n",
       "17    0.50070  0.50842 -0.01968  0.31261  0.02054  0.06555  1.01787  0.40674   \n",
       "...       ...      ...      ...      ...      ...      ...      ...      ...   \n",
       "1035  0.84497  0.65755  0.72160  0.14221  0.00000  0.04937  0.29249  1.10167   \n",
       "1036  0.45270  0.47298  0.39017  0.16372  0.00921  0.03984  0.30289  1.37575   \n",
       "1037  0.74894  0.71804  0.43970  0.24452  0.00615  0.25373  0.38318  1.14098   \n",
       "1047  0.21969  0.00000  0.16126  0.32945  0.00000  0.38548  0.83921  0.75106   \n",
       "1049  0.74601  0.11552  0.45915  0.34515  0.00000  0.40392  1.15228  0.86142   \n",
       "\n",
       "             Z  statut  \n",
       "9     2.090823       1  \n",
       "10    2.327521       1  \n",
       "15    2.176408       1  \n",
       "16    1.695471       2  \n",
       "17    1.637665       2  \n",
       "...        ...     ...  \n",
       "1035  1.610737       2  \n",
       "1036  1.898314       1  \n",
       "1037  2.510231       1  \n",
       "1047  2.922010       1  \n",
       "1049  3.299904       1  \n",
       "\n",
       "[313 rows x 16 columns]"
      ]
     },
     "execution_count": 63,
     "metadata": {},
     "output_type": "execute_result"
    }
   ],
   "source": [
    "numerical_credit = df.select_dtypes(exclude='O')\n",
    "numerical_credit"
   ]
  },
  {
   "cell_type": "code",
   "execution_count": null,
   "metadata": {},
   "outputs": [],
   "source": []
  },
  {
   "cell_type": "code",
   "execution_count": null,
   "metadata": {},
   "outputs": [],
   "source": []
  },
  {
   "cell_type": "code",
   "execution_count": 64,
   "metadata": {},
   "outputs": [],
   "source": [
    "from sklearn.preprocessing import StandardScaler\n",
    "from sklearn.cluster import KMeans\n",
    "import numpy as np"
   ]
  },
  {
   "cell_type": "code",
   "execution_count": 65,
   "metadata": {},
   "outputs": [],
   "source": [
    "scaler = StandardScaler()\n",
    "scaled_credit = scaler.fit_transform(X_kbest)"
   ]
  },
  {
   "cell_type": "code",
   "execution_count": 66,
   "metadata": {},
   "outputs": [
    {
     "ename": "KeyboardInterrupt",
     "evalue": "",
     "output_type": "error",
     "traceback": [
      "\u001b[1;31m---------------------------------------------------------------------------\u001b[0m",
      "\u001b[1;31mKeyboardInterrupt\u001b[0m                         Traceback (most recent call last)",
      "\u001b[1;32m<ipython-input-66-41b987c3da73>\u001b[0m in \u001b[0;36m<module>\u001b[1;34m\u001b[0m\n\u001b[0;32m      2\u001b[0m \u001b[1;32mfor\u001b[0m \u001b[0mk\u001b[0m \u001b[1;32min\u001b[0m \u001b[0mrange\u001b[0m\u001b[1;33m(\u001b[0m\u001b[1;36m1\u001b[0m\u001b[1;33m,\u001b[0m \u001b[1;36m10\u001b[0m\u001b[1;33m)\u001b[0m\u001b[1;33m:\u001b[0m\u001b[1;33m\u001b[0m\u001b[1;33m\u001b[0m\u001b[0m\n\u001b[0;32m      3\u001b[0m     \u001b[0mkmeans\u001b[0m \u001b[1;33m=\u001b[0m \u001b[0mKMeans\u001b[0m\u001b[1;33m(\u001b[0m\u001b[0mn_clusters\u001b[0m\u001b[1;33m=\u001b[0m\u001b[0mk\u001b[0m\u001b[1;33m)\u001b[0m\u001b[1;33m\u001b[0m\u001b[1;33m\u001b[0m\u001b[0m\n\u001b[1;32m----> 4\u001b[1;33m     \u001b[0mkmeans\u001b[0m\u001b[1;33m.\u001b[0m\u001b[0mfit\u001b[0m\u001b[1;33m(\u001b[0m\u001b[0mscaled_credit\u001b[0m\u001b[1;33m)\u001b[0m\u001b[1;33m\u001b[0m\u001b[1;33m\u001b[0m\u001b[0m\n\u001b[0m\u001b[0;32m      5\u001b[0m     \u001b[0mdistance\u001b[0m\u001b[1;33m.\u001b[0m\u001b[0mappend\u001b[0m\u001b[1;33m(\u001b[0m\u001b[0mkmeans\u001b[0m\u001b[1;33m.\u001b[0m\u001b[0minertia_\u001b[0m\u001b[1;33m)\u001b[0m\u001b[1;33m\u001b[0m\u001b[1;33m\u001b[0m\u001b[0m\n",
      "\u001b[1;32m~\\anaconda3\\lib\\site-packages\\sklearn\\cluster\\_kmeans.py\u001b[0m in \u001b[0;36mfit\u001b[1;34m(self, X, y, sample_weight)\u001b[0m\n\u001b[0;32m   1413\u001b[0m \u001b[1;33m\u001b[0m\u001b[0m\n\u001b[0;32m   1414\u001b[0m             \u001b[1;31m# run a k-means once\u001b[0m\u001b[1;33m\u001b[0m\u001b[1;33m\u001b[0m\u001b[1;33m\u001b[0m\u001b[0m\n\u001b[1;32m-> 1415\u001b[1;33m             labels, inertia, centers, n_iter_ = kmeans_single(\n\u001b[0m\u001b[0;32m   1416\u001b[0m                 \u001b[0mX\u001b[0m\u001b[1;33m,\u001b[0m\u001b[1;33m\u001b[0m\u001b[1;33m\u001b[0m\u001b[0m\n\u001b[0;32m   1417\u001b[0m                 \u001b[0msample_weight\u001b[0m\u001b[1;33m,\u001b[0m\u001b[1;33m\u001b[0m\u001b[1;33m\u001b[0m\u001b[0m\n",
      "\u001b[1;32m~\\anaconda3\\lib\\site-packages\\sklearn\\cluster\\_kmeans.py\u001b[0m in \u001b[0;36m_kmeans_single_lloyd\u001b[1;34m(X, sample_weight, centers_init, max_iter, verbose, x_squared_norms, tol, n_threads)\u001b[0m\n\u001b[0;32m    644\u001b[0m     \u001b[1;31m# Threadpoolctl context to limit the number of threads in second level of\u001b[0m\u001b[1;33m\u001b[0m\u001b[1;33m\u001b[0m\u001b[1;33m\u001b[0m\u001b[0m\n\u001b[0;32m    645\u001b[0m     \u001b[1;31m# nested parallelism (i.e. BLAS) to avoid oversubsciption.\u001b[0m\u001b[1;33m\u001b[0m\u001b[1;33m\u001b[0m\u001b[1;33m\u001b[0m\u001b[0m\n\u001b[1;32m--> 646\u001b[1;33m     \u001b[1;32mwith\u001b[0m \u001b[0mthreadpool_limits\u001b[0m\u001b[1;33m(\u001b[0m\u001b[0mlimits\u001b[0m\u001b[1;33m=\u001b[0m\u001b[1;36m1\u001b[0m\u001b[1;33m,\u001b[0m \u001b[0muser_api\u001b[0m\u001b[1;33m=\u001b[0m\u001b[1;34m\"blas\"\u001b[0m\u001b[1;33m)\u001b[0m\u001b[1;33m:\u001b[0m\u001b[1;33m\u001b[0m\u001b[1;33m\u001b[0m\u001b[0m\n\u001b[0m\u001b[0;32m    647\u001b[0m         \u001b[1;32mfor\u001b[0m \u001b[0mi\u001b[0m \u001b[1;32min\u001b[0m \u001b[0mrange\u001b[0m\u001b[1;33m(\u001b[0m\u001b[0mmax_iter\u001b[0m\u001b[1;33m)\u001b[0m\u001b[1;33m:\u001b[0m\u001b[1;33m\u001b[0m\u001b[1;33m\u001b[0m\u001b[0m\n\u001b[0;32m    648\u001b[0m             lloyd_iter(\n",
      "\u001b[1;32m~\\anaconda3\\lib\\site-packages\\sklearn\\utils\\fixes.py\u001b[0m in \u001b[0;36mthreadpool_limits\u001b[1;34m(limits, user_api)\u001b[0m\n\u001b[0;32m    149\u001b[0m         \u001b[1;32mreturn\u001b[0m \u001b[0mcontroller\u001b[0m\u001b[1;33m.\u001b[0m\u001b[0mlimit\u001b[0m\u001b[1;33m(\u001b[0m\u001b[0mlimits\u001b[0m\u001b[1;33m=\u001b[0m\u001b[0mlimits\u001b[0m\u001b[1;33m,\u001b[0m \u001b[0muser_api\u001b[0m\u001b[1;33m=\u001b[0m\u001b[0muser_api\u001b[0m\u001b[1;33m)\u001b[0m\u001b[1;33m\u001b[0m\u001b[1;33m\u001b[0m\u001b[0m\n\u001b[0;32m    150\u001b[0m     \u001b[1;32melse\u001b[0m\u001b[1;33m:\u001b[0m\u001b[1;33m\u001b[0m\u001b[1;33m\u001b[0m\u001b[0m\n\u001b[1;32m--> 151\u001b[1;33m         \u001b[1;32mreturn\u001b[0m \u001b[0mthreadpoolctl\u001b[0m\u001b[1;33m.\u001b[0m\u001b[0mthreadpool_limits\u001b[0m\u001b[1;33m(\u001b[0m\u001b[0mlimits\u001b[0m\u001b[1;33m=\u001b[0m\u001b[0mlimits\u001b[0m\u001b[1;33m,\u001b[0m \u001b[0muser_api\u001b[0m\u001b[1;33m=\u001b[0m\u001b[0muser_api\u001b[0m\u001b[1;33m)\u001b[0m\u001b[1;33m\u001b[0m\u001b[1;33m\u001b[0m\u001b[0m\n\u001b[0m\u001b[0;32m    152\u001b[0m \u001b[1;33m\u001b[0m\u001b[0m\n\u001b[0;32m    153\u001b[0m \u001b[1;33m\u001b[0m\u001b[0m\n",
      "\u001b[1;32m~\\anaconda3\\lib\\site-packages\\threadpoolctl.py\u001b[0m in \u001b[0;36m__init__\u001b[1;34m(self, limits, user_api)\u001b[0m\n\u001b[0;32m    169\u001b[0m             \u001b[0mself\u001b[0m\u001b[1;33m.\u001b[0m\u001b[0m_check_params\u001b[0m\u001b[1;33m(\u001b[0m\u001b[0mlimits\u001b[0m\u001b[1;33m,\u001b[0m \u001b[0muser_api\u001b[0m\u001b[1;33m)\u001b[0m\u001b[1;33m\u001b[0m\u001b[1;33m\u001b[0m\u001b[0m\n\u001b[0;32m    170\u001b[0m \u001b[1;33m\u001b[0m\u001b[0m\n\u001b[1;32m--> 171\u001b[1;33m         \u001b[0mself\u001b[0m\u001b[1;33m.\u001b[0m\u001b[0m_original_info\u001b[0m \u001b[1;33m=\u001b[0m \u001b[0mself\u001b[0m\u001b[1;33m.\u001b[0m\u001b[0m_set_threadpool_limits\u001b[0m\u001b[1;33m(\u001b[0m\u001b[1;33m)\u001b[0m\u001b[1;33m\u001b[0m\u001b[1;33m\u001b[0m\u001b[0m\n\u001b[0m\u001b[0;32m    172\u001b[0m \u001b[1;33m\u001b[0m\u001b[0m\n\u001b[0;32m    173\u001b[0m     \u001b[1;32mdef\u001b[0m \u001b[0m__enter__\u001b[0m\u001b[1;33m(\u001b[0m\u001b[0mself\u001b[0m\u001b[1;33m)\u001b[0m\u001b[1;33m:\u001b[0m\u001b[1;33m\u001b[0m\u001b[1;33m\u001b[0m\u001b[0m\n",
      "\u001b[1;32m~\\anaconda3\\lib\\site-packages\\threadpoolctl.py\u001b[0m in \u001b[0;36m_set_threadpool_limits\u001b[1;34m(self)\u001b[0m\n\u001b[0;32m    266\u001b[0m             \u001b[1;32mreturn\u001b[0m \u001b[1;32mNone\u001b[0m\u001b[1;33m\u001b[0m\u001b[1;33m\u001b[0m\u001b[0m\n\u001b[0;32m    267\u001b[0m \u001b[1;33m\u001b[0m\u001b[0m\n\u001b[1;32m--> 268\u001b[1;33m         modules = _ThreadpoolInfo(prefixes=self._prefixes,\n\u001b[0m\u001b[0;32m    269\u001b[0m                                   user_api=self._user_api)\n\u001b[0;32m    270\u001b[0m         \u001b[1;32mfor\u001b[0m \u001b[0mmodule\u001b[0m \u001b[1;32min\u001b[0m \u001b[0mmodules\u001b[0m\u001b[1;33m:\u001b[0m\u001b[1;33m\u001b[0m\u001b[1;33m\u001b[0m\u001b[0m\n",
      "\u001b[1;32m~\\anaconda3\\lib\\site-packages\\threadpoolctl.py\u001b[0m in \u001b[0;36m__init__\u001b[1;34m(self, user_api, prefixes, modules)\u001b[0m\n\u001b[0;32m    338\u001b[0m \u001b[1;33m\u001b[0m\u001b[0m\n\u001b[0;32m    339\u001b[0m             \u001b[0mself\u001b[0m\u001b[1;33m.\u001b[0m\u001b[0mmodules\u001b[0m \u001b[1;33m=\u001b[0m \u001b[1;33m[\u001b[0m\u001b[1;33m]\u001b[0m\u001b[1;33m\u001b[0m\u001b[1;33m\u001b[0m\u001b[0m\n\u001b[1;32m--> 340\u001b[1;33m             \u001b[0mself\u001b[0m\u001b[1;33m.\u001b[0m\u001b[0m_load_modules\u001b[0m\u001b[1;33m(\u001b[0m\u001b[1;33m)\u001b[0m\u001b[1;33m\u001b[0m\u001b[1;33m\u001b[0m\u001b[0m\n\u001b[0m\u001b[0;32m    341\u001b[0m             \u001b[0mself\u001b[0m\u001b[1;33m.\u001b[0m\u001b[0m_warn_if_incompatible_openmp\u001b[0m\u001b[1;33m(\u001b[0m\u001b[1;33m)\u001b[0m\u001b[1;33m\u001b[0m\u001b[1;33m\u001b[0m\u001b[0m\n\u001b[0;32m    342\u001b[0m         \u001b[1;32melse\u001b[0m\u001b[1;33m:\u001b[0m\u001b[1;33m\u001b[0m\u001b[1;33m\u001b[0m\u001b[0m\n",
      "\u001b[1;32m~\\anaconda3\\lib\\site-packages\\threadpoolctl.py\u001b[0m in \u001b[0;36m_load_modules\u001b[1;34m(self)\u001b[0m\n\u001b[0;32m    371\u001b[0m             \u001b[0mself\u001b[0m\u001b[1;33m.\u001b[0m\u001b[0m_find_modules_with_dyld\u001b[0m\u001b[1;33m(\u001b[0m\u001b[1;33m)\u001b[0m\u001b[1;33m\u001b[0m\u001b[1;33m\u001b[0m\u001b[0m\n\u001b[0;32m    372\u001b[0m         \u001b[1;32melif\u001b[0m \u001b[0msys\u001b[0m\u001b[1;33m.\u001b[0m\u001b[0mplatform\u001b[0m \u001b[1;33m==\u001b[0m \u001b[1;34m\"win32\"\u001b[0m\u001b[1;33m:\u001b[0m\u001b[1;33m\u001b[0m\u001b[1;33m\u001b[0m\u001b[0m\n\u001b[1;32m--> 373\u001b[1;33m             \u001b[0mself\u001b[0m\u001b[1;33m.\u001b[0m\u001b[0m_find_modules_with_enum_process_module_ex\u001b[0m\u001b[1;33m(\u001b[0m\u001b[1;33m)\u001b[0m\u001b[1;33m\u001b[0m\u001b[1;33m\u001b[0m\u001b[0m\n\u001b[0m\u001b[0;32m    374\u001b[0m         \u001b[1;32melse\u001b[0m\u001b[1;33m:\u001b[0m\u001b[1;33m\u001b[0m\u001b[1;33m\u001b[0m\u001b[0m\n\u001b[0;32m    375\u001b[0m             \u001b[0mself\u001b[0m\u001b[1;33m.\u001b[0m\u001b[0m_find_modules_with_dl_iterate_phdr\u001b[0m\u001b[1;33m(\u001b[0m\u001b[1;33m)\u001b[0m\u001b[1;33m\u001b[0m\u001b[1;33m\u001b[0m\u001b[0m\n",
      "\u001b[1;32m~\\anaconda3\\lib\\site-packages\\threadpoolctl.py\u001b[0m in \u001b[0;36m_find_modules_with_enum_process_module_ex\u001b[1;34m(self)\u001b[0m\n\u001b[0;32m    476\u001b[0m \u001b[1;33m\u001b[0m\u001b[0m\n\u001b[0;32m    477\u001b[0m                 \u001b[1;31m# Get the path of the current module\u001b[0m\u001b[1;33m\u001b[0m\u001b[1;33m\u001b[0m\u001b[1;33m\u001b[0m\u001b[0m\n\u001b[1;32m--> 478\u001b[1;33m                 if not ps_api.GetModuleFileNameExW(\n\u001b[0m\u001b[0;32m    479\u001b[0m                         \u001b[0mh_process\u001b[0m\u001b[1;33m,\u001b[0m \u001b[0mh_module\u001b[0m\u001b[1;33m,\u001b[0m \u001b[0mctypes\u001b[0m\u001b[1;33m.\u001b[0m\u001b[0mbyref\u001b[0m\u001b[1;33m(\u001b[0m\u001b[0mbuf\u001b[0m\u001b[1;33m)\u001b[0m\u001b[1;33m,\u001b[0m\u001b[1;33m\u001b[0m\u001b[1;33m\u001b[0m\u001b[0m\n\u001b[0;32m    480\u001b[0m                         ctypes.byref(n_size)):\n",
      "\u001b[1;31mKeyboardInterrupt\u001b[0m: "
     ]
    }
   ],
   "source": [
    "distance = []\n",
    "for k in range(1, 10):\n",
    "    kmeans = KMeans(n_clusters=k) \n",
    "    kmeans.fit(scaled_credit)\n",
    "    distance.append(kmeans.inertia_)"
   ]
  },
  {
   "cell_type": "code",
   "execution_count": null,
   "metadata": {},
   "outputs": [],
   "source": [
    "plt.plot(range(1, 10), distance, 'bx-')\n",
    "plt.xlabel('k')\n",
    "plt.ylabel('Inertia')\n",
    "plt.title('The Elbow Method')\n",
    "plt.show()"
   ]
  },
  {
   "cell_type": "code",
   "execution_count": null,
   "metadata": {},
   "outputs": [],
   "source": [
    "from sklearn.metrics import silhouette_score\n",
    "from yellowbrick.cluster import SilhouetteVisualizer"
   ]
  },
  {
   "cell_type": "code",
   "execution_count": null,
   "metadata": {},
   "outputs": [],
   "source": [
    "fig, ax = plt.subplots(4, 2, figsize=(25, 20))\n",
    "for i in range(2, 10):\n",
    "    km = KMeans(n_clusters=i)\n",
    "    q, r = divmod(i, 2) \n",
    "    visualizer = SilhouetteVisualizer(km, colors='yellowbrick', ax=ax[q - 1][r])\n",
    "    visualizer.fit(scaled_credit)\n",
    "    ax[q - 1][r].set_title(\"For Cluster_\"+str(i))\n",
    "    ax[q - 1][r].set_xlabel(\"Silhouette Score\")"
   ]
  },
  {
   "cell_type": "code",
   "execution_count": null,
   "metadata": {},
   "outputs": [],
   "source": [
    "from yellowbrick.cluster import KElbowVisualizer \n",
    "model = KMeans()\n",
    "visualizer = KElbowVisualizer(model, k=(2, 10), metric='calinski_harabasz',timings=False)\n",
    "visualizer.fit(scaled_credit)\n",
    "visualizer.show()"
   ]
  },
  {
   "cell_type": "code",
   "execution_count": null,
   "metadata": {},
   "outputs": [],
   "source": [
    "from gap_statistic.optimalK import OptimalK"
   ]
  },
  {
   "cell_type": "code",
   "execution_count": null,
   "metadata": {},
   "outputs": [],
   "source": [
    "optimalK = OptimalK(n_jobs=8, parallel_backend='joblib')\n",
    "n_clusters = optimalK(scaled_credit, cluster_array=np.arange(1, 10))\n",
    "gap_result = optimalK.gap_df\n",
    "gap_result.head()"
   ]
  },
  {
   "cell_type": "code",
   "execution_count": null,
   "metadata": {},
   "outputs": [],
   "source": [
    "plt.plot(gap_result.n_clusters, gap_result.gap_value)\n",
    "min_ylim, max_ylim = plt.ylim()\n",
    "plt.axhline(np.max(gap_result.gap_value), color='r', linestyle='dashed', linewidth=2)\n",
    "plt.title('Gap Analysis')\n",
    "plt.xlabel('Number of Cluster')\n",
    "plt.ylabel('Gap Value')\n",
    "plt.show()"
   ]
  },
  {
   "cell_type": "code",
   "execution_count": null,
   "metadata": {
    "scrolled": true
   },
   "outputs": [],
   "source": [
    "from gap_statistic.optimalK import OptimalK\n",
    "optimalK = OptimalK(n_jobs=8, parallel_backend='joblib')\n",
    "n_clusters = optimalK(scaled_credit, cluster_array=np.arange(1, 10))\n",
    "gap_result = optimalK.gap_df\n",
    "gap_result.head()"
   ]
  },
  {
   "cell_type": "code",
   "execution_count": null,
   "metadata": {},
   "outputs": [],
   "source": [
    "plt.plot(gap_result.n_clusters, gap_result.gap_value)\n",
    "min_ylim, max_ylim = plt.ylim()\n",
    "plt.axhline(np.max(gap_result.gap_value), color='r',linestyle='dashed', linewidth=2)\n",
    "plt.title('Gap Analysis')\n",
    "plt.xlabel('Number of Cluster')\n",
    "plt.ylabel('Gap Value')\n",
    "plt.show()"
   ]
  },
  {
   "cell_type": "code",
   "execution_count": null,
   "metadata": {},
   "outputs": [],
   "source": [
    "df.head()\n"
   ]
  },
  {
   "cell_type": "code",
   "execution_count": null,
   "metadata": {},
   "outputs": [],
   "source": []
  },
  {
   "cell_type": "code",
   "execution_count": null,
   "metadata": {},
   "outputs": [],
   "source": [
    "kmeans = KMeans(n_clusters=2)\n",
    "clusters = kmeans.fit_predict(scaled_credit)"
   ]
  },
  {
   "cell_type": "code",
   "execution_count": null,
   "metadata": {},
   "outputs": [],
   "source": [
    "plt.figure(figsize=(10, 12))\n",
    "plt.subplot(311)\n",
    "plt.scatter(scaled_credit[:, 0], scaled_credit[:, 1],\n",
    "            c=kmeans.labels_, cmap='viridis')\n",
    "plt.scatter(kmeans.cluster_centers_[:, 0],\n",
    "            kmeans.cluster_centers_[:, 1], s = 80,\n",
    "            marker= 'x', color = 'k')\n",
    "plt.title('X1 vs X3')\n",
    "plt.subplot(312)\n",
    "plt.scatter(scaled_credit[:, 1], scaled_credit[:, 0],\n",
    "            c=kmeans.labels_, cmap='viridis')\n",
    "plt.scatter(kmeans.cluster_centers_[:, 1],\n",
    "            kmeans.cluster_centers_[:, 0], s = 80,\n",
    "            marker= 'x', color = 'k')\n",
    "plt.title('z vs R6')\n",
    "\n"
   ]
  },
  {
   "cell_type": "code",
   "execution_count": null,
   "metadata": {},
   "outputs": [],
   "source": []
  },
  {
   "cell_type": "code",
   "execution_count": null,
   "metadata": {},
   "outputs": [],
   "source": [
    "clusters, counts = np.unique(kmeans.labels_, return_counts=True)\n",
    "cluster_dict = {}\n",
    "for i in range(len(clusters)):\n",
    "    cluster_dict[i] = scaled_credit[np.where(kmeans.labels_==i)]\n",
    "\n",
    "    "
   ]
  },
  {
   "cell_type": "code",
   "execution_count": null,
   "metadata": {},
   "outputs": [],
   "source": [
    "scaled_credit"
   ]
  },
  {
   "cell_type": "code",
   "execution_count": null,
   "metadata": {},
   "outputs": [],
   "source": [
    "X_kbest.head()"
   ]
  },
  {
   "cell_type": "code",
   "execution_count": null,
   "metadata": {},
   "outputs": [],
   "source": [
    "df['clusters'] = pd.DataFrame(kmeans.labels_)\n",
    "df_scaled = pd.DataFrame(scaled_credit)\n",
    "df_scaled['clusters'] = df['clusters']\n",
    "df_scaled['statut'] = df['statut']\n"
   ]
  },
  {
   "cell_type": "code",
   "execution_count": null,
   "metadata": {},
   "outputs": [],
   "source": []
  },
  {
   "cell_type": "code",
   "execution_count": null,
   "metadata": {},
   "outputs": [],
   "source": [
    "df_scaled.columns = ['X5','Z','Clusters', 'statut']\n"
   ]
  },
  {
   "cell_type": "code",
   "execution_count": null,
   "metadata": {},
   "outputs": [],
   "source": [
    "df_scaled[df_scaled.Clusters == 1]['statut'].value_counts()"
   ]
  },
  {
   "cell_type": "code",
   "execution_count": null,
   "metadata": {},
   "outputs": [],
   "source": [
    "df_scaled[df_scaled.Clusters == 0]['statut'].value_counts().plot(kind='bar', figsize=(10, 6), title=\"Frequency of Risk Level\");\n"
   ]
  },
  {
   "cell_type": "code",
   "execution_count": null,
   "metadata": {},
   "outputs": [],
   "source": [
    "df_scaled[df_scaled.Clusters == 1]['statut'].value_counts().plot(kind='bar', figsize=(10, 6), title=\"Frequency of Risk Level\");"
   ]
  },
  {
   "cell_type": "code",
   "execution_count": null,
   "metadata": {},
   "outputs": [],
   "source": [
    "from sklearn.model_selection import train_test_split\n",
    "\n",
    "X = df_scaled.drop('statut', axis=1)\n",
    "y = df_scaled.loc[:, ['statut', 'Clusters']]\n",
    "X_train, X_test, y_train, y_test = train_test_split(X, y,test_size=0.2,random_state=42)\n",
    "\n",
    "first_cluster_train = X_train[X_train.Clusters == 0].iloc[:, :-1]\n",
    "second_cluster_train = X_train[X_train.Clusters == 1].iloc[:, :-1]\n"
   ]
  },
  {
   "cell_type": "code",
   "execution_count": null,
   "metadata": {},
   "outputs": [],
   "source": [
    "first_cluster_train"
   ]
  },
  {
   "cell_type": "code",
   "execution_count": null,
   "metadata": {},
   "outputs": [],
   "source": [
    "from imblearn.over_sampling import SMOTE\n",
    "import statsmodels.api as sm\n",
    "from sklearn.linear_model import LogisticRegression\n",
    "from sklearn.metrics import roc_auc_score, roc_curve\n",
    "from imblearn.combine import SMOTEENN\n",
    "import warnings\n",
    "warnings.filterwarnings('ignore')\n",
    "X_train1 = second_cluster_train\n",
    "y_train1 = y_train[y_train.Clusters == 0]['statut'] \n",
    " \n"
   ]
  },
  {
   "cell_type": "code",
   "execution_count": null,
   "metadata": {},
   "outputs": [],
   "source": [
    "from sklearn.svm import SVC\n",
    "from sklearn.experimental import enable_halving_search_cv \n",
    "from sklearn.model_selection import HalvingRandomSearchCV \n",
    "import time"
   ]
  },
  {
   "cell_type": "code",
   "execution_count": null,
   "metadata": {},
   "outputs": [],
   "source": [
    "param_svc = {'gamma': [1e-6, 1e-2],\n",
    "                      'C':[0.001,.09,1,5,10],\n",
    "                      'kernel':('linear','rbf')}\n",
    "\n",
    "svc = SVC(class_weight='balanced')\n",
    "halve_SVC = HalvingRandomSearchCV(svc, param_svc,scoring = 'roc_auc', n_jobs=-1) \n",
    "halve_SVC.fit(X_train1, y_train1)\n",
    "print('Best hyperparameters for first cluster in SVC {} with {}'.\n",
    "      format(halve_SVC.best_score_, halve_SVC.best_params_))\n",
    "Besthyperparameters for first cluster in SVC 0.8273860106443562 with\n",
    "         {'kernel': 'rbf', 'gamma': 0.01, 'C': 1}\n",
    "\n",
    "y_pred_SVC1 = halve_SVC.predict(X_test1) \n",
    "print('The ROC AUC score of SVC for first cluster is {:.4f}'.\n",
    "      format(roc_auc_score(y_test1, y_pred_SVC1)))\n",
    "The ROC AUC score of SVC for first cluster is 0.5179"
   ]
  },
  {
   "cell_type": "code",
   "execution_count": null,
   "metadata": {},
   "outputs": [],
   "source": [
    "from tensorflow import keras\n",
    "from tensorflow.keras.wrappers.scikit_learn import KerasClassifier \n",
    "from tensorflow.keras.layers import Dense, Dropout\n",
    "from sklearn.model_selection import GridSearchCV\n",
    "import tensorflow as tf\n",
    "import logging \n",
    "tf.get_logger().setLevel(logging.ERROR) \n",
    "\n",
    "def DL_risk(dropout_rate,verbose=0):\n",
    "    model = keras.Sequential()\n",
    "    model.add(Dense(128,kernel_initializer='normal',\n",
    "                activation = 'relu', input_dim=4))\n",
    "    model.add(Dense(64, kernel_initializer='normal',\n",
    "                activation = 'relu'))\n",
    "    model.add(Dense(8,kernel_initializer='normal',\n",
    "                activation = 'relu'))\n",
    "    model.add(Dropout(dropout_rate))\n",
    "    model.add(Dense(1, activation=\"sigmoid\"))\n",
    "    model.compile(loss='binary_crossentropy', optimizer='rmsprop')\n",
    "    return model"
   ]
  },
  {
   "cell_type": "code",
   "execution_count": null,
   "metadata": {},
   "outputs": [],
   "source": [
    "import scikitplot as skplt"
   ]
  },
  {
   "cell_type": "code",
   "execution_count": null,
   "metadata": {},
   "outputs": [],
   "source": []
  }
 ],
 "metadata": {
  "kernelspec": {
   "display_name": "Python 3",
   "language": "python",
   "name": "python3"
  },
  "language_info": {
   "codemirror_mode": {
    "name": "ipython",
    "version": 3
   },
   "file_extension": ".py",
   "mimetype": "text/x-python",
   "name": "python",
   "nbconvert_exporter": "python",
   "pygments_lexer": "ipython3",
   "version": "3.8.5"
  }
 },
 "nbformat": 4,
 "nbformat_minor": 4
}
